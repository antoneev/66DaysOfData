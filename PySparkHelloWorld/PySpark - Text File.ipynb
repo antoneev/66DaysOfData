{
 "cells": [
  {
   "cell_type": "markdown",
   "metadata": {
    "id": "j6KZszkUyDaB"
   },
   "source": [
    "# Ran in Google Colab"
   ]
  },
  {
   "cell_type": "markdown",
   "metadata": {
    "id": "lJKhrQu3Ye6Q"
   },
   "source": [
    "# Loading Text File from Kaggle into Dataframe"
   ]
  },
  {
   "cell_type": "code",
   "execution_count": 1,
   "metadata": {
    "colab": {
     "base_uri": "https://localhost:8080/"
    },
    "id": "bOR8K8hKxucS",
    "outputId": "72f1fb48-8a96-459d-981b-25377d6be108"
   },
   "outputs": [
    {
     "name": "stdout",
     "output_type": "stream",
     "text": [
      "openjdk version \"1.8.0_312\"\n",
      "OpenJDK Runtime Environment (build 1.8.0_312-8u312-b07-0ubuntu1~18.04-b07)\n",
      "OpenJDK 64-Bit Server VM (build 25.312-b07, mixed mode)\n",
      "Collecting pyspark==2.4.4\n",
      "  Using cached pyspark-2.4.4-py2.py3-none-any.whl\n",
      "Collecting py4j==0.10.7\n",
      "  Using cached py4j-0.10.7-py2.py3-none-any.whl (197 kB)\n",
      "Installing collected packages: py4j, pyspark\n",
      "Successfully installed py4j-0.10.7 pyspark-2.4.4\n",
      "Collecting spark-nlp\n",
      "  Using cached spark_nlp-3.3.4-py2.py3-none-any.whl (133 kB)\n",
      "Installing collected packages: spark-nlp\n",
      "Successfully installed spark-nlp-3.3.4\n"
     ]
    }
   ],
   "source": [
    "import os\n",
    "\n",
    "# Install java\n",
    "! apt-get update -qq\n",
    "! apt-get install -y openjdk-8-jdk-headless -qq > /dev/null\n",
    "os.environ[\"JAVA_HOME\"] = \"/usr/lib/jvm/java-8-openjdk-amd64\"\n",
    "os.environ[\"PATH\"] = os.environ[\"JAVA_HOME\"] + \"/bin:\" + os.environ[\"PATH\"]\n",
    "! java -version\n",
    "\n",
    "# Install pyspark\n",
    "! pip install --ignore-installed pyspark==2.4.4\n",
    "\n",
    "# Install Spark NLP\n",
    "! pip install --ignore-installed spark-nlp"
   ]
  },
  {
   "cell_type": "code",
   "execution_count": 3,
   "metadata": {
    "id": "k6jZ-9CWYeqp"
   },
   "outputs": [],
   "source": [
    "! pip install -q kaggle"
   ]
  },
  {
   "cell_type": "code",
   "execution_count": 47,
   "metadata": {
    "colab": {
     "base_uri": "https://localhost:8080/",
     "height": 55,
     "resources": {
      "http://localhost:8080/nbextensions/google.colab/files.js": {
       "data": "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",
       "headers": [
        [
         "content-type",
         "application/javascript"
        ]
       ],
       "ok": true,
       "status": 200,
       "status_text": ""
      }
     }
    },
    "id": "Mi_bSA9mbTpX",
    "outputId": "0b97944c-0d6c-4a74-dc10-0c2f530af91b"
   },
   "outputs": [
    {
     "data": {
      "text/html": [
       "\n",
       "     <input type=\"file\" id=\"files-60581941-4f1c-438b-9b95-b0a125a1fa53\" name=\"files[]\" multiple disabled\n",
       "        style=\"border:none\" />\n",
       "     <output id=\"result-60581941-4f1c-438b-9b95-b0a125a1fa53\">\n",
       "      Upload widget is only available when the cell has been executed in the\n",
       "      current browser session. Please rerun this cell to enable.\n",
       "      </output>\n",
       "      <script src=\"/nbextensions/google.colab/files.js\"></script> "
      ],
      "text/plain": [
       "<IPython.core.display.HTML object>"
      ]
     },
     "metadata": {},
     "output_type": "display_data"
    },
    {
     "data": {
      "text/plain": [
       "{}"
      ]
     },
     "execution_count": 47,
     "metadata": {},
     "output_type": "execute_result"
    }
   ],
   "source": [
    "from google.colab import files\n",
    "files.upload()"
   ]
  },
  {
   "cell_type": "code",
   "execution_count": 5,
   "metadata": {
    "colab": {
     "base_uri": "https://localhost:8080/"
    },
    "id": "BaIkmU1Vba9l",
    "outputId": "d0862151-24ab-47fc-aa39-5fb8f221f679"
   },
   "outputs": [
    {
     "name": "stdout",
     "output_type": "stream",
     "text": [
      "mkdir: cannot create directory ‘/root/.kaggle’: File exists\n"
     ]
    }
   ],
   "source": [
    "! mkdir ~/.kaggle\n",
    "! cp kaggle.json ~/.kaggle/"
   ]
  },
  {
   "cell_type": "code",
   "execution_count": 6,
   "metadata": {
    "id": "MvwDVSNGbiV-"
   },
   "outputs": [],
   "source": [
    "! chmod 600 ~/.kaggle/kaggle.json"
   ]
  },
  {
   "cell_type": "code",
   "execution_count": 7,
   "metadata": {
    "colab": {
     "base_uri": "https://localhost:8080/"
    },
    "id": "1pVYa5uwbyKJ",
    "outputId": "6d6298e6-6c36-4489-8a17-d53f1e4b34cd"
   },
   "outputs": [
    {
     "name": "stdout",
     "output_type": "stream",
     "text": [
      "Warning: Looks like you're using an outdated API Version, please consider updating (server 1.5.12 / client 1.5.4)\n",
      "ref                                                         title                                              size  lastUpdated          downloadCount  \n",
      "----------------------------------------------------------  ------------------------------------------------  -----  -------------------  -------------  \n",
      "gpreda/reddit-vaccine-myths                                 Reddit Vaccine Myths                              237KB  2021-12-12 11:59:54          17996  \n",
      "crowww/a-large-scale-fish-dataset                           A Large Scale Fish Dataset                          3GB  2021-04-28 17:03:01          10722  \n",
      "imsparsh/musicnet-dataset                                   MusicNet Dataset                                   22GB  2021-02-18 14:12:19           5353  \n",
      "dhruvildave/wikibooks-dataset                               Wikibooks Dataset                                   2GB  2021-10-22 10:48:21           3845  \n",
      "promptcloud/careerbuilder-job-listing-2020                  Careerbuilder Job Listing 2020                     42MB  2021-03-05 06:59:52           3016  \n",
      "fatiimaezzahra/famous-iconic-women                          Famous Iconic Women                               838MB  2021-02-28 14:56:00           2142  \n",
      "nickuzmenkov/nih-chest-xrays-tfrecords                      NIH Chest X-rays TFRecords                         11GB  2021-03-09 04:49:23           1861  \n",
      "mathurinache/twitter-edge-nodes                             Twitter Edge Nodes                                342MB  2021-03-08 06:43:04           1433  \n",
      "alsgroup/end-als                                            End ALS Kaggle Challenge                           12GB  2021-04-08 12:16:37           1169  \n",
      "simiotic/github-code-snippets                               GitHub Code Snippets                                7GB  2021-03-03 11:34:39            558  \n",
      "coloradokb/dandelionimages                                  DandelionImages                                     4GB  2021-02-19 20:03:47           1100  \n",
      "mathurinache/the-lj-speech-dataset                          The LJ Speech Dataset                               3GB  2021-02-15 09:19:54            561  \n",
      "landrykezebou/lvzhdr-tone-mapping-benchmark-dataset-tmonet  LVZ-HDR Tone Mapping Benchmark Dataset (TMO-Net)   24GB  2021-03-01 05:03:40            273  \n",
      "stuartjames/lights                                          LightS: Light Specularity Dataset                  18GB  2021-02-18 14:32:26            252  \n",
      "nickuzmenkov/ranzcr-clip-kfold-tfrecords                    RANZCR CLiP KFold TFRecords                         2GB  2021-02-21 13:29:51            171  \n",
      "imsparsh/accentdb-core-extended                             AccentDB - Core & Extended                          6GB  2021-02-17 14:22:54            202  \n",
      "datasnaek/youtube-new                                       Trending YouTube Video Statistics                 201MB  2019-06-03 00:56:47         161788  \n",
      "zynicide/wine-reviews                                       Wine Reviews                                       51MB  2017-11-27 17:08:04         151249  \n",
      "residentmario/ramen-ratings                                 Ramen Ratings                                      40KB  2018-01-11 16:04:39          31286  \n",
      "datasnaek/chess                                             Chess Game Dataset (Lichess)                        3MB  2017-09-04 03:09:09          26435  \n"
     ]
    }
   ],
   "source": [
    "! kaggle datasets list"
   ]
  },
  {
   "cell_type": "code",
   "execution_count": 8,
   "metadata": {
    "colab": {
     "base_uri": "https://localhost:8080/"
    },
    "id": "uIQ6XL7tbkzD",
    "outputId": "96ff7c66-ec64-4a0b-a246-bfd13ed9020a"
   },
   "outputs": [
    {
     "name": "stdout",
     "output_type": "stream",
     "text": [
      "electric-power-consumption-data-set.zip: Skipping, found more recently modified local copy (use --force to force download)\n"
     ]
    }
   ],
   "source": [
    "! kaggle datasets download -d uciml/electric-power-consumption-data-set"
   ]
  },
  {
   "cell_type": "code",
   "execution_count": 9,
   "metadata": {
    "colab": {
     "base_uri": "https://localhost:8080/"
    },
    "id": "ALgZqGBPcYfj",
    "outputId": "3bf22bd8-86a2-45b5-eaa2-730eadab702a"
   },
   "outputs": [
    {
     "name": "stdout",
     "output_type": "stream",
     "text": [
      "Archive:  electric-power-consumption-data-set.zip\n",
      "replace household_power_consumption.txt? [y]es, [n]o, [A]ll, [N]one, [r]ename: y\n",
      "  inflating: household_power_consumption.txt  \n"
     ]
    }
   ],
   "source": [
    "! unzip electric-power-consumption-data-set.zip"
   ]
  },
  {
   "cell_type": "code",
   "execution_count": 10,
   "metadata": {
    "id": "KigJuw9ccjwQ"
   },
   "outputs": [],
   "source": [
    "from pyspark.sql import SparkSession"
   ]
  },
  {
   "cell_type": "code",
   "execution_count": 11,
   "metadata": {
    "id": "6NemhyzJdImc"
   },
   "outputs": [],
   "source": [
    "spark = SparkSession.builder.getOrCreate()"
   ]
  },
  {
   "cell_type": "code",
   "execution_count": 12,
   "metadata": {
    "id": "fgkA4eFnd0lI"
   },
   "outputs": [],
   "source": [
    "df = spark.read.text('household_power_consumption.txt')"
   ]
  },
  {
   "cell_type": "code",
   "execution_count": 13,
   "metadata": {
    "colab": {
     "base_uri": "https://localhost:8080/"
    },
    "id": "Mw98NrLvcHbx",
    "outputId": "a81ddb2c-9a75-4746-d22f-a87d93c23fd8"
   },
   "outputs": [
    {
     "name": "stdout",
     "output_type": "stream",
     "text": [
      "+--------------------+\n",
      "|               value|\n",
      "+--------------------+\n",
      "|Date;Time;Global_...|\n",
      "|16/12/2006;17:24:...|\n",
      "|16/12/2006;17:25:...|\n",
      "|16/12/2006;17:26:...|\n",
      "|16/12/2006;17:27:...|\n",
      "+--------------------+\n",
      "only showing top 5 rows\n",
      "\n"
     ]
    }
   ],
   "source": [
    "df.show(5)"
   ]
  },
  {
   "cell_type": "code",
   "execution_count": 14,
   "metadata": {
    "colab": {
     "base_uri": "https://localhost:8080/"
    },
    "id": "3sBE7an5dy8t",
    "outputId": "a6f86e0b-8f25-490d-db32-f59fe8f6673b"
   },
   "outputs": [
    {
     "name": "stdout",
     "output_type": "stream",
     "text": [
      "+-----------------------------------------------------------------------------------------------------------------------------------+\n",
      "|Text_Data_In_A_Single_Column                                                                                                       |\n",
      "+-----------------------------------------------------------------------------------------------------------------------------------+\n",
      "|[Date, Time, Global_active_power, Global_reactive_power, Voltage, Global_intensity, Sub_metering_1, Sub_metering_2, Sub_metering_3]|\n",
      "|[16/12/2006, 17:24:00, 4.216, 0.418, 234.840, 18.400, 0.000, 1.000, 17.000]                                                        |\n",
      "|[16/12/2006, 17:25:00, 5.360, 0.436, 233.630, 23.000, 0.000, 1.000, 16.000]                                                        |\n",
      "|[16/12/2006, 17:26:00, 5.374, 0.498, 233.290, 23.000, 0.000, 2.000, 17.000]                                                        |\n",
      "|[16/12/2006, 17:27:00, 5.388, 0.502, 233.740, 23.000, 0.000, 1.000, 17.000]                                                        |\n",
      "+-----------------------------------------------------------------------------------------------------------------------------------+\n",
      "only showing top 5 rows\n",
      "\n"
     ]
    }
   ],
   "source": [
    "dfColumnsNotSplit = df.selectExpr(\"split(value, ';')\\\n",
    "as Text_Data_In_A_Single_Column\")\n",
    "\n",
    "dfColumnsNotSplit.show(5,False)"
   ]
  },
  {
   "cell_type": "code",
   "execution_count": 15,
   "metadata": {
    "colab": {
     "base_uri": "https://localhost:8080/"
    },
    "id": "Ji3i2plMgE0Y",
    "outputId": "53d2e2d6-815c-47f5-d07e-315f7fc9ddd6"
   },
   "outputs": [
    {
     "name": "stdout",
     "output_type": "stream",
     "text": [
      "+----------+--------+-------------------+---------------------+-------+----------------+--------------+--------------+--------------+\n",
      "|Date      |Time    |Global_active_power|Global_reactive_power|Voltage|Global_intensity|Sub_metering_1|Sub_metering_2|Sub_metering_3|\n",
      "+----------+--------+-------------------+---------------------+-------+----------------+--------------+--------------+--------------+\n",
      "|16/12/2006|17:24:00|4.216              |0.418                |234.840|18.400          |0.000         |1.000         |17.0          |\n",
      "|16/12/2006|17:25:00|5.360              |0.436                |233.630|23.000          |0.000         |1.000         |16.0          |\n",
      "|16/12/2006|17:26:00|5.374              |0.498                |233.290|23.000          |0.000         |2.000         |17.0          |\n",
      "|16/12/2006|17:27:00|5.388              |0.502                |233.740|23.000          |0.000         |1.000         |17.0          |\n",
      "|16/12/2006|17:28:00|3.666              |0.528                |235.680|15.800          |0.000         |1.000         |17.0          |\n",
      "+----------+--------+-------------------+---------------------+-------+----------------+--------------+--------------+--------------+\n",
      "only showing top 5 rows\n",
      "\n"
     ]
    }
   ],
   "source": [
    "dfColumnsSplit = spark.read.option(\"header\", \"true\") \\\n",
    "    .option(\"delimiter\", \";\") \\\n",
    "    .option(\"inferSchema\", \"true\") \\\n",
    "    .csv(\"household_power_consumption.txt\")\n",
    "\n",
    "dfColumnsSplit.show(5, truncate=False)"
   ]
  },
  {
   "cell_type": "markdown",
   "metadata": {
    "id": "nMHvrBI76gVG"
   },
   "source": [
    "# Select Query"
   ]
  },
  {
   "cell_type": "markdown",
   "metadata": {
    "id": "OPRWD95n6srB"
   },
   "source": [
    "## Show a single column"
   ]
  },
  {
   "cell_type": "code",
   "execution_count": 16,
   "metadata": {
    "colab": {
     "base_uri": "https://localhost:8080/"
    },
    "id": "hfu2pvOA6byO",
    "outputId": "0209648b-42d8-4585-de03-ab3b5aa605dc"
   },
   "outputs": [
    {
     "name": "stdout",
     "output_type": "stream",
     "text": [
      "+-------------------+\n",
      "|Global_active_power|\n",
      "+-------------------+\n",
      "|              4.216|\n",
      "|              5.360|\n",
      "|              5.374|\n",
      "|              5.388|\n",
      "|              3.666|\n",
      "+-------------------+\n",
      "only showing top 5 rows\n",
      "\n"
     ]
    }
   ],
   "source": [
    "dfColumnsSplit.select(\"Global_active_power\").show(5) "
   ]
  },
  {
   "cell_type": "markdown",
   "metadata": {
    "id": "2zOVcBYf64fb"
   },
   "source": [
    "## Showing multiple columns"
   ]
  },
  {
   "cell_type": "code",
   "execution_count": 17,
   "metadata": {
    "colab": {
     "base_uri": "https://localhost:8080/"
    },
    "id": "0BjDaKTf61om",
    "outputId": "96563a5e-3648-42e2-e532-cc50441b3b82"
   },
   "outputs": [
    {
     "name": "stdout",
     "output_type": "stream",
     "text": [
      "+-------------------+---------------------+-------+----------------+\n",
      "|Global_active_power|Global_reactive_power|Voltage|Global_intensity|\n",
      "+-------------------+---------------------+-------+----------------+\n",
      "|              4.216|                0.418|234.840|          18.400|\n",
      "|              5.360|                0.436|233.630|          23.000|\n",
      "|              5.374|                0.498|233.290|          23.000|\n",
      "|              5.388|                0.502|233.740|          23.000|\n",
      "|              3.666|                0.528|235.680|          15.800|\n",
      "+-------------------+---------------------+-------+----------------+\n",
      "only showing top 5 rows\n",
      "\n"
     ]
    }
   ],
   "source": [
    "dfColumnsSplit.select(\"Global_active_power\", \"Global_reactive_power\", \"Voltage\", \"Global_intensity\").show(5)"
   ]
  },
  {
   "cell_type": "markdown",
   "metadata": {
    "id": "S90HwLNowf_7"
   },
   "source": [
    "# Like Query"
   ]
  },
  {
   "cell_type": "code",
   "execution_count": 18,
   "metadata": {
    "colab": {
     "base_uri": "https://localhost:8080/"
    },
    "id": "ISdksBoXwfOz",
    "outputId": "f399d048-177b-4d3e-d209-991f1109c1ef"
   },
   "outputs": [
    {
     "name": "stdout",
     "output_type": "stream",
     "text": [
      "+-------------------+------------------------------+\n",
      "|Global_active_power|Global_active_power LIKE 5.388|\n",
      "+-------------------+------------------------------+\n",
      "|              4.216|                         false|\n",
      "|              5.360|                         false|\n",
      "|              5.374|                         false|\n",
      "|              5.388|                          true|\n",
      "|              3.666|                         false|\n",
      "+-------------------+------------------------------+\n",
      "only showing top 5 rows\n",
      "\n"
     ]
    }
   ],
   "source": [
    "dfColumnsSplit.select(\"Global_active_power\", dfColumnsSplit.Global_active_power.like(\"5.388\")).show(5)"
   ]
  },
  {
   "cell_type": "markdown",
   "metadata": {
    "id": "UXO4hxyUykGS"
   },
   "source": [
    "# Filter Query"
   ]
  },
  {
   "cell_type": "code",
   "execution_count": 19,
   "metadata": {
    "colab": {
     "base_uri": "https://localhost:8080/"
    },
    "id": "4pgv6Y7WxysV",
    "outputId": "5dd645fc-d981-42a9-cc62-4b6d820a0809"
   },
   "outputs": [
    {
     "name": "stdout",
     "output_type": "stream",
     "text": [
      "+----------+--------+-------------------+---------------------+-------+----------------+--------------+--------------+--------------+\n",
      "|      Date|    Time|Global_active_power|Global_reactive_power|Voltage|Global_intensity|Sub_metering_1|Sub_metering_2|Sub_metering_3|\n",
      "+----------+--------+-------------------+---------------------+-------+----------------+--------------+--------------+--------------+\n",
      "|16/12/2006|17:27:00|              5.388|                0.502|233.740|          23.000|         0.000|         1.000|          17.0|\n",
      "|22/12/2006|20:53:00|              5.388|                0.252|232.360|          23.200|        36.000|         1.000|          17.0|\n",
      "|24/12/2006|00:04:00|              5.388|                0.000|236.980|          22.600|         0.000|         0.000|          17.0|\n",
      "|28/12/2006|19:00:00|              5.388|                0.176|234.950|          22.800|         0.000|        38.000|          17.0|\n",
      "|28/12/2006|19:07:00|              5.388|                0.182|234.530|          23.000|         0.000|        37.000|          17.0|\n",
      "+----------+--------+-------------------+---------------------+-------+----------------+--------------+--------------+--------------+\n",
      "only showing top 5 rows\n",
      "\n"
     ]
    }
   ],
   "source": [
    "dfColumnsSplit.filter \\\n",
    "    (dfColumnsSplit.Global_active_power == \"5.388\").show(5)"
   ]
  },
  {
   "cell_type": "markdown",
   "metadata": {
    "id": "GL538T0GUoEC"
   },
   "source": [
    "# Group By Query"
   ]
  },
  {
   "cell_type": "code",
   "execution_count": 20,
   "metadata": {
    "colab": {
     "base_uri": "https://localhost:8080/"
    },
    "id": "Ap-jOTX7S2Fc",
    "outputId": "08edcbcf-2a4a-407e-e7f4-f72f81c17b30"
   },
   "outputs": [
    {
     "name": "stdout",
     "output_type": "stream",
     "text": [
      "+----------+-----+\n",
      "|      Date|count|\n",
      "+----------+-----+\n",
      "| 30/1/2007| 1440|\n",
      "| 13/2/2007| 1440|\n",
      "|19/11/2007| 1440|\n",
      "| 12/1/2008| 1440|\n",
      "| 26/2/2008| 1440|\n",
      "+----------+-----+\n",
      "only showing top 5 rows\n",
      "\n"
     ]
    }
   ],
   "source": [
    "dfColumnsSplit.groupBy(\"Date\").count().show(5)"
   ]
  },
  {
   "cell_type": "markdown",
   "metadata": {
    "id": "3pXywLH1_QXT"
   },
   "source": [
    "# Handling NaNs "
   ]
  },
  {
   "cell_type": "markdown",
   "metadata": {
    "id": "OUCH72EwenV9"
   },
   "source": [
    "## Finds NaNs"
   ]
  },
  {
   "cell_type": "code",
   "execution_count": 21,
   "metadata": {
    "colab": {
     "base_uri": "https://localhost:8080/"
    },
    "id": "SOaCB_mqjJrF",
    "outputId": "0520de96-044b-4fc5-bafd-ffc4313bce73"
   },
   "outputs": [
    {
     "name": "stdout",
     "output_type": "stream",
     "text": [
      "+----------+--------+-------------------+---------------------+-------+----------------+--------------+--------------+--------------+\n",
      "|      Date|    Time|Global_active_power|Global_reactive_power|Voltage|Global_intensity|Sub_metering_1|Sub_metering_2|Sub_metering_3|\n",
      "+----------+--------+-------------------+---------------------+-------+----------------+--------------+--------------+--------------+\n",
      "|21/12/2006|11:23:00|                  ?|                    ?|      ?|               ?|             ?|             ?|          null|\n",
      "|21/12/2006|11:24:00|                  ?|                    ?|      ?|               ?|             ?|             ?|          null|\n",
      "|30/12/2006|10:08:00|                  ?|                    ?|      ?|               ?|             ?|             ?|          null|\n",
      "|30/12/2006|10:09:00|                  ?|                    ?|      ?|               ?|             ?|             ?|          null|\n",
      "| 14/1/2007|18:36:00|                  ?|                    ?|      ?|               ?|             ?|             ?|          null|\n",
      "+----------+--------+-------------------+---------------------+-------+----------------+--------------+--------------+--------------+\n",
      "only showing top 5 rows\n",
      "\n"
     ]
    }
   ],
   "source": [
    "dfColumnsSplit.filter(\"Sub_metering_3 is NULL\").show(5)"
   ]
  },
  {
   "cell_type": "markdown",
   "metadata": {
    "id": "4Uxy_1lq_U3Z"
   },
   "source": [
    "## Fill NaNs"
   ]
  },
  {
   "cell_type": "code",
   "execution_count": 22,
   "metadata": {
    "id": "--reO_-a-SAh"
   },
   "outputs": [],
   "source": [
    "dfColumnsNaNFill = dfColumnsSplit.na.fill(123456)"
   ]
  },
  {
   "cell_type": "code",
   "execution_count": 23,
   "metadata": {
    "colab": {
     "base_uri": "https://localhost:8080/"
    },
    "id": "z7dpSac5-wD9",
    "outputId": "1414c082-509b-4b9f-b542-d08bf85f80e5"
   },
   "outputs": [
    {
     "name": "stdout",
     "output_type": "stream",
     "text": [
      "+----------+--------+-------------------+---------------------+-------+----------------+--------------+--------------+--------------+\n",
      "|      Date|    Time|Global_active_power|Global_reactive_power|Voltage|Global_intensity|Sub_metering_1|Sub_metering_2|Sub_metering_3|\n",
      "+----------+--------+-------------------+---------------------+-------+----------------+--------------+--------------+--------------+\n",
      "|21/12/2006|11:23:00|                  ?|                    ?|      ?|               ?|             ?|             ?|      123456.0|\n",
      "|21/12/2006|11:24:00|                  ?|                    ?|      ?|               ?|             ?|             ?|      123456.0|\n",
      "|30/12/2006|10:08:00|                  ?|                    ?|      ?|               ?|             ?|             ?|      123456.0|\n",
      "|30/12/2006|10:09:00|                  ?|                    ?|      ?|               ?|             ?|             ?|      123456.0|\n",
      "| 14/1/2007|18:36:00|                  ?|                    ?|      ?|               ?|             ?|             ?|      123456.0|\n",
      "+----------+--------+-------------------+---------------------+-------+----------------+--------------+--------------+--------------+\n",
      "only showing top 5 rows\n",
      "\n"
     ]
    }
   ],
   "source": [
    "dfColumnsNaNFill.filter \\\n",
    "    (dfColumnsNaNFill.Sub_metering_3 == \"123456\").show(5)"
   ]
  },
  {
   "cell_type": "markdown",
   "metadata": {
    "id": "ST-0HP9njG1E"
   },
   "source": [
    "# Modify Table - Columns"
   ]
  },
  {
   "cell_type": "markdown",
   "metadata": {
    "id": "mL8Ub8SvjLO9"
   },
   "source": [
    "## Update Query - One Column's value\n"
   ]
  },
  {
   "cell_type": "code",
   "execution_count": 24,
   "metadata": {
    "id": "AIJZ5mZ-j_EB"
   },
   "outputs": [],
   "source": [
    "from pyspark.sql import functions as F"
   ]
  },
  {
   "cell_type": "code",
   "execution_count": 25,
   "metadata": {
    "id": "YurP_R0IjGjb"
   },
   "outputs": [],
   "source": [
    "dfColumnsFill_OneColumn = dfColumnsNaNFill.withColumn \\\n",
    "    (\"Global_active_power\", F.when(F.col(\"Global_active_power\")=='?', 100).otherwise(F.col(\"Global_active_power\")))\n"
   ]
  },
  {
   "cell_type": "code",
   "execution_count": 26,
   "metadata": {
    "colab": {
     "base_uri": "https://localhost:8080/"
    },
    "id": "s8rH3A-ikNw2",
    "outputId": "caab847a-c164-4729-8bce-87f21036bcce"
   },
   "outputs": [
    {
     "name": "stdout",
     "output_type": "stream",
     "text": [
      "+----------+--------+-------------------+---------------------+-------+----------------+--------------+--------------+--------------+\n",
      "|      Date|    Time|Global_active_power|Global_reactive_power|Voltage|Global_intensity|Sub_metering_1|Sub_metering_2|Sub_metering_3|\n",
      "+----------+--------+-------------------+---------------------+-------+----------------+--------------+--------------+--------------+\n",
      "|21/12/2006|11:23:00|                100|                    ?|      ?|               ?|             ?|             ?|      123456.0|\n",
      "|21/12/2006|11:24:00|                100|                    ?|      ?|               ?|             ?|             ?|      123456.0|\n",
      "|30/12/2006|10:08:00|                100|                    ?|      ?|               ?|             ?|             ?|      123456.0|\n",
      "|30/12/2006|10:09:00|                100|                    ?|      ?|               ?|             ?|             ?|      123456.0|\n",
      "| 14/1/2007|18:36:00|                100|                    ?|      ?|               ?|             ?|             ?|      123456.0|\n",
      "+----------+--------+-------------------+---------------------+-------+----------------+--------------+--------------+--------------+\n",
      "only showing top 5 rows\n",
      "\n"
     ]
    }
   ],
   "source": [
    "dfColumnsFill_OneColumn.filter \\\n",
    "    (dfColumnsFill_OneColumn.Sub_metering_3 == \"123456\").show(5)"
   ]
  },
  {
   "cell_type": "markdown",
   "metadata": {
    "id": "Ei2rqVy7uyPp"
   },
   "source": [
    "## Update Query - All Columns value\n"
   ]
  },
  {
   "cell_type": "code",
   "execution_count": 27,
   "metadata": {
    "id": "ZJn9XEBAuxjm"
   },
   "outputs": [],
   "source": [
    "cols = dfColumnsNaNFill.columns\n",
    "for col in cols:\n",
    "  dfColumnsNaNFill = dfColumnsNaNFill.withColumn(col, F.when(dfColumnsNaNFill[col] == \"?\",100).otherwise(F.col(col)))"
   ]
  },
  {
   "cell_type": "code",
   "execution_count": 28,
   "metadata": {
    "colab": {
     "base_uri": "https://localhost:8080/"
    },
    "id": "W65f_FQowek3",
    "outputId": "4f78c0da-da5b-46d4-d3b7-da40555be74f"
   },
   "outputs": [
    {
     "name": "stdout",
     "output_type": "stream",
     "text": [
      "+----------+--------+-------------------+---------------------+-------+----------------+--------------+--------------+--------------+\n",
      "|      Date|    Time|Global_active_power|Global_reactive_power|Voltage|Global_intensity|Sub_metering_1|Sub_metering_2|Sub_metering_3|\n",
      "+----------+--------+-------------------+---------------------+-------+----------------+--------------+--------------+--------------+\n",
      "|21/12/2006|11:23:00|                100|                  100|    100|             100|           100|           100|      123456.0|\n",
      "|21/12/2006|11:24:00|                100|                  100|    100|             100|           100|           100|      123456.0|\n",
      "|30/12/2006|10:08:00|                100|                  100|    100|             100|           100|           100|      123456.0|\n",
      "|30/12/2006|10:09:00|                100|                  100|    100|             100|           100|           100|      123456.0|\n",
      "| 14/1/2007|18:36:00|                100|                  100|    100|             100|           100|           100|      123456.0|\n",
      "+----------+--------+-------------------+---------------------+-------+----------------+--------------+--------------+--------------+\n",
      "only showing top 5 rows\n",
      "\n"
     ]
    }
   ],
   "source": [
    "dfColumnsNaNFill.filter \\\n",
    "    (dfColumnsFill_OneColumn.Sub_metering_3 == \"123456\").show(5)"
   ]
  },
  {
   "cell_type": "markdown",
   "metadata": {
    "id": "I9RRcRwwfeg8"
   },
   "source": [
    "## Update Column Name"
   ]
  },
  {
   "cell_type": "code",
   "execution_count": 29,
   "metadata": {
    "colab": {
     "base_uri": "https://localhost:8080/"
    },
    "id": "U6jVM60Bfd3h",
    "outputId": "237b137f-4170-4345-b2b2-655a2cf15c45"
   },
   "outputs": [
    {
     "name": "stdout",
     "output_type": "stream",
     "text": [
      "+----------+--------+-------------------+---------------------+-------+----------------+--------------+--------------+--------------+\n",
      "|      Date|    Time|Global Active Power|Global_reactive_power|Voltage|Global_intensity|Sub_metering_1|Sub_metering_2|Sub_metering_3|\n",
      "+----------+--------+-------------------+---------------------+-------+----------------+--------------+--------------+--------------+\n",
      "|16/12/2006|17:24:00|              4.216|                0.418|234.840|          18.400|         0.000|         1.000|          17.0|\n",
      "|16/12/2006|17:25:00|              5.360|                0.436|233.630|          23.000|         0.000|         1.000|          16.0|\n",
      "|16/12/2006|17:26:00|              5.374|                0.498|233.290|          23.000|         0.000|         2.000|          17.0|\n",
      "|16/12/2006|17:27:00|              5.388|                0.502|233.740|          23.000|         0.000|         1.000|          17.0|\n",
      "|16/12/2006|17:28:00|              3.666|                0.528|235.680|          15.800|         0.000|         1.000|          17.0|\n",
      "+----------+--------+-------------------+---------------------+-------+----------------+--------------+--------------+--------------+\n",
      "only showing top 5 rows\n",
      "\n"
     ]
    }
   ],
   "source": [
    "dfColumnsSplit_ColumnRename = dfColumnsSplit.withColumnRenamed('Global_active_power', 'Global Active Power')\n",
    "\n",
    "dfColumnsSplit_ColumnRename.show(5)"
   ]
  },
  {
   "cell_type": "markdown",
   "metadata": {
    "id": "29FV2QuUqUtt"
   },
   "source": [
    "## Add Query"
   ]
  },
  {
   "cell_type": "code",
   "execution_count": 30,
   "metadata": {
    "colab": {
     "base_uri": "https://localhost:8080/"
    },
    "id": "Gn5wH1z4qZNR",
    "outputId": "787e7c1d-4696-43e9-cf8d-fb80a96a477c"
   },
   "outputs": [
    {
     "name": "stdout",
     "output_type": "stream",
     "text": [
      "+----------+--------+-------------------+---------------------+-------+----------------+--------------+--------------+--------------+-------------+\n",
      "|      Date|    Time|Global_active_power|Global_reactive_power|Voltage|Global_intensity|Sub_metering_1|Sub_metering_2|Sub_metering_3|   new_column|\n",
      "+----------+--------+-------------------+---------------------+-------+----------------+--------------+--------------+--------------+-------------+\n",
      "|16/12/2006|17:24:00|              4.216|                0.418|234.840|          18.400|         0.000|         1.000|          17.0|#66DaysOfData|\n",
      "|16/12/2006|17:25:00|              5.360|                0.436|233.630|          23.000|         0.000|         1.000|          16.0|#66DaysOfData|\n",
      "|16/12/2006|17:26:00|              5.374|                0.498|233.290|          23.000|         0.000|         2.000|          17.0|#66DaysOfData|\n",
      "|16/12/2006|17:27:00|              5.388|                0.502|233.740|          23.000|         0.000|         1.000|          17.0|#66DaysOfData|\n",
      "|16/12/2006|17:28:00|              3.666|                0.528|235.680|          15.800|         0.000|         1.000|          17.0|#66DaysOfData|\n",
      "+----------+--------+-------------------+---------------------+-------+----------------+--------------+--------------+--------------+-------------+\n",
      "only showing top 5 rows\n",
      "\n"
     ]
    }
   ],
   "source": [
    "dfColumnsSplit_NewColumn = dfColumnsSplit.withColumn('new_column', F.lit('#66DaysOfData'))\n",
    "\n",
    "dfColumnsSplit_NewColumn.show(5)"
   ]
  },
  {
   "cell_type": "markdown",
   "metadata": {
    "id": "CldjjieQzGcE"
   },
   "source": [
    "## Delete Query"
   ]
  },
  {
   "cell_type": "code",
   "execution_count": 31,
   "metadata": {
    "colab": {
     "base_uri": "https://localhost:8080/"
    },
    "id": "lHgMudBBzJRD",
    "outputId": "d5e3f7f8-c183-4154-be9d-3fd24fc960b0"
   },
   "outputs": [
    {
     "name": "stdout",
     "output_type": "stream",
     "text": [
      "+----------+--------+---------------------+-------+----------------+--------------+--------------+--------------+\n",
      "|      Date|    Time|Global_reactive_power|Voltage|Global_intensity|Sub_metering_1|Sub_metering_2|Sub_metering_3|\n",
      "+----------+--------+---------------------+-------+----------------+--------------+--------------+--------------+\n",
      "|16/12/2006|17:24:00|                0.418|234.840|          18.400|         0.000|         1.000|          17.0|\n",
      "|16/12/2006|17:25:00|                0.436|233.630|          23.000|         0.000|         1.000|          16.0|\n",
      "|16/12/2006|17:26:00|                0.498|233.290|          23.000|         0.000|         2.000|          17.0|\n",
      "|16/12/2006|17:27:00|                0.502|233.740|          23.000|         0.000|         1.000|          17.0|\n",
      "|16/12/2006|17:28:00|                0.528|235.680|          15.800|         0.000|         1.000|          17.0|\n",
      "+----------+--------+---------------------+-------+----------------+--------------+--------------+--------------+\n",
      "only showing top 5 rows\n",
      "\n"
     ]
    }
   ],
   "source": [
    "dfColumnsSplit_DeleteColumn = dfColumnsSplit.drop(\"Global_active_power\")\n",
    "\n",
    "dfColumnsSplit_DeleteColumn.show(5)"
   ]
  },
  {
   "cell_type": "markdown",
   "metadata": {
    "id": "bVzVoGsmrzEX"
   },
   "source": [
    "# Modify Table - Rows"
   ]
  },
  {
   "cell_type": "markdown",
   "metadata": {
    "id": "_O1F2Ao2RHCx"
   },
   "source": [
    "## Add Row Query"
   ]
  },
  {
   "cell_type": "code",
   "execution_count": 32,
   "metadata": {
    "id": "TWFhunQdRK74"
   },
   "outputs": [],
   "source": [
    "newRow = spark.createDataFrame([('21/12/2021','17:24:00',4.216,0.418,234.840,18.400,0.00,0.01,17.0)], dfColumnsSplit.columns)\n",
    "\n",
    "dfColumnsSplit_NewRow = dfColumnsSplit.union(newRow)"
   ]
  },
  {
   "cell_type": "code",
   "execution_count": 33,
   "metadata": {
    "colab": {
     "base_uri": "https://localhost:8080/"
    },
    "id": "lliXt9qsRTeI",
    "outputId": "e02de0aa-6843-4c87-b1bf-691075b26d5e"
   },
   "outputs": [
    {
     "name": "stdout",
     "output_type": "stream",
     "text": [
      "+----------+--------+-------------------+---------------------+-------+----------------+--------------+--------------+--------------+\n",
      "|      Date|    Time|Global_active_power|Global_reactive_power|Voltage|Global_intensity|Sub_metering_1|Sub_metering_2|Sub_metering_3|\n",
      "+----------+--------+-------------------+---------------------+-------+----------------+--------------+--------------+--------------+\n",
      "|21/12/2021|17:24:00|              4.216|                0.418| 234.84|            18.4|           0.0|          0.01|          17.0|\n",
      "+----------+--------+-------------------+---------------------+-------+----------------+--------------+--------------+--------------+\n",
      "\n"
     ]
    }
   ],
   "source": [
    "dfColumnsSplit_NewRow.filter \\\n",
    "    (dfColumnsSplit_NewRow.Date == '21/12/2021').show(5)"
   ]
  },
  {
   "cell_type": "markdown",
   "metadata": {
    "id": "JlGAGScHiFpV"
   },
   "source": [
    "## Update Row Query"
   ]
  },
  {
   "cell_type": "code",
   "execution_count": 34,
   "metadata": {
    "id": "5qMo_2YZiEWP"
   },
   "outputs": [],
   "source": [
    "dfColumnsSplit_UpdateRow = dfColumnsSplit_NewRow.withColumn(\n",
    "    \"Sub_metering_1\",\n",
    "    F.when(\n",
    "        F.col(\"Date\") == '21/12/2021',\n",
    "        15.0\n",
    "    ).otherwise(F.col(\"Sub_metering_1\"))\n",
    ")"
   ]
  },
  {
   "cell_type": "code",
   "execution_count": 35,
   "metadata": {
    "colab": {
     "base_uri": "https://localhost:8080/"
    },
    "id": "G2EgbBGSlSEE",
    "outputId": "8635fc26-1374-41f7-d0aa-faab01f00056"
   },
   "outputs": [
    {
     "name": "stdout",
     "output_type": "stream",
     "text": [
      "+----------+--------+-------------------+---------------------+-------+----------------+--------------+--------------+--------------+\n",
      "|      Date|    Time|Global_active_power|Global_reactive_power|Voltage|Global_intensity|Sub_metering_1|Sub_metering_2|Sub_metering_3|\n",
      "+----------+--------+-------------------+---------------------+-------+----------------+--------------+--------------+--------------+\n",
      "|21/12/2021|17:24:00|              4.216|                0.418| 234.84|            18.4|          15.0|          0.01|          17.0|\n",
      "+----------+--------+-------------------+---------------------+-------+----------------+--------------+--------------+--------------+\n",
      "\n"
     ]
    }
   ],
   "source": [
    "dfColumnsSplit_UpdateRow.filter \\\n",
    "    (dfColumnsSplit_UpdateRow.Date == '21/12/2021').show(5)"
   ]
  },
  {
   "cell_type": "markdown",
   "metadata": {
    "id": "l03g0tz9YBwx"
   },
   "source": [
    "## Drop Row"
   ]
  },
  {
   "cell_type": "code",
   "execution_count": 36,
   "metadata": {
    "id": "VOS2kn1qYA0g"
   },
   "outputs": [],
   "source": [
    "dfColumnsSplit_DropRow = dfColumnsSplit_NewRow.where(\"Date == 21/12/2021\")"
   ]
  },
  {
   "cell_type": "code",
   "execution_count": 37,
   "metadata": {
    "colab": {
     "base_uri": "https://localhost:8080/"
    },
    "id": "ORiyCgnBYSAs",
    "outputId": "e81c924f-dfc9-4996-c466-be7a6eb77246"
   },
   "outputs": [
    {
     "name": "stdout",
     "output_type": "stream",
     "text": [
      "+----+----+-------------------+---------------------+-------+----------------+--------------+--------------+--------------+\n",
      "|Date|Time|Global_active_power|Global_reactive_power|Voltage|Global_intensity|Sub_metering_1|Sub_metering_2|Sub_metering_3|\n",
      "+----+----+-------------------+---------------------+-------+----------------+--------------+--------------+--------------+\n",
      "+----+----+-------------------+---------------------+-------+----------------+--------------+--------------+--------------+\n",
      "\n"
     ]
    }
   ],
   "source": [
    "dfColumnsSplit_DropRow.filter \\\n",
    "    (dfColumnsSplit_DropRow.Date == '21/12/2021').show(5)"
   ]
  },
  {
   "cell_type": "markdown",
   "metadata": {
    "id": "jKeG7nrPUdc6"
   },
   "source": [
    "## Drop NaNs"
   ]
  },
  {
   "cell_type": "code",
   "execution_count": 38,
   "metadata": {
    "colab": {
     "base_uri": "https://localhost:8080/"
    },
    "id": "jNgT_Sq5VTkr",
    "outputId": "4e12843c-022e-4056-fb84-8d6ca0f8c17b"
   },
   "outputs": [
    {
     "data": {
      "text/plain": [
       "2075259"
      ]
     },
     "execution_count": 38,
     "metadata": {},
     "output_type": "execute_result"
    }
   ],
   "source": [
    "dfColumnsSplit.count()"
   ]
  },
  {
   "cell_type": "code",
   "execution_count": 45,
   "metadata": {
    "colab": {
     "base_uri": "https://localhost:8080/"
    },
    "id": "b8E2rsLZWkR-",
    "outputId": "ee439b15-473b-4ab6-9b81-b1cb40be93d3"
   },
   "outputs": [
    {
     "data": {
      "text/plain": [
       "2075259"
      ]
     },
     "execution_count": 45,
     "metadata": {},
     "output_type": "execute_result"
    }
   ],
   "source": [
    "dfColumnsSplit_DropNaNsAll = dfColumnsSplit.na.drop(\"all\")\n",
    "\n",
    "dfColumnsSplit_DropNaNsAll.count()"
   ]
  },
  {
   "cell_type": "code",
   "execution_count": 41,
   "metadata": {
    "colab": {
     "base_uri": "https://localhost:8080/"
    },
    "id": "Rl_xVA7sVYJY",
    "outputId": "10cdb0b2-f3d5-41a0-deef-b39582543f55"
   },
   "outputs": [
    {
     "data": {
      "text/plain": [
       "2049280"
      ]
     },
     "execution_count": 41,
     "metadata": {},
     "output_type": "execute_result"
    }
   ],
   "source": [
    "dfColumnsSplit_DropNaNsAny = dfColumnsSplit.na.drop(\"any\")\n",
    "\n",
    "dfColumnsSplit_DropNaNsAny.count()"
   ]
  },
  {
   "cell_type": "markdown",
   "metadata": {
    "id": "Sp_xJ6n-K6bD"
   },
   "source": [
    "# Registering Tables with SQL"
   ]
  },
  {
   "cell_type": "code",
   "execution_count": 42,
   "metadata": {
    "id": "IjmT2a0KLEud"
   },
   "outputs": [],
   "source": [
    "dfColumnsSplit.registerTempTable(\"df\")"
   ]
  },
  {
   "cell_type": "code",
   "execution_count": 43,
   "metadata": {
    "colab": {
     "base_uri": "https://localhost:8080/"
    },
    "id": "AjAyBeciLLY0",
    "outputId": "f28a5279-559a-441d-e15d-135eefb634f5"
   },
   "outputs": [
    {
     "name": "stdout",
     "output_type": "stream",
     "text": [
      "+----------+--------+-------------------+---------------------+-------+----------------+--------------+--------------+--------------+\n",
      "|      Date|    Time|Global_active_power|Global_reactive_power|Voltage|Global_intensity|Sub_metering_1|Sub_metering_2|Sub_metering_3|\n",
      "+----------+--------+-------------------+---------------------+-------+----------------+--------------+--------------+--------------+\n",
      "|16/12/2006|17:24:00|              4.216|                0.418|234.840|          18.400|         0.000|         1.000|          17.0|\n",
      "|16/12/2006|17:25:00|              5.360|                0.436|233.630|          23.000|         0.000|         1.000|          16.0|\n",
      "|16/12/2006|17:26:00|              5.374|                0.498|233.290|          23.000|         0.000|         2.000|          17.0|\n",
      "|16/12/2006|17:27:00|              5.388|                0.502|233.740|          23.000|         0.000|         1.000|          17.0|\n",
      "|16/12/2006|17:28:00|              3.666|                0.528|235.680|          15.800|         0.000|         1.000|          17.0|\n",
      "+----------+--------+-------------------+---------------------+-------+----------------+--------------+--------------+--------------+\n",
      "only showing top 5 rows\n",
      "\n"
     ]
    }
   ],
   "source": [
    "spark.sql(\"SELECT * FROM df\").show(5)"
   ]
  },
  {
   "cell_type": "markdown",
   "metadata": {
    "id": "GeP8WGjSlUX-"
   },
   "source": [
    "# Stop Session"
   ]
  },
  {
   "cell_type": "code",
   "execution_count": 46,
   "metadata": {
    "id": "iHkanmGwcliq"
   },
   "outputs": [],
   "source": [
    "spark.stop()"
   ]
  }
 ],
 "metadata": {
  "colab": {
   "collapsed_sections": [],
   "name": "PySpark - Hello World.ipynb",
   "provenance": []
  },
  "kernelspec": {
   "display_name": "Python 3",
   "language": "python",
   "name": "python3"
  },
  "language_info": {
   "codemirror_mode": {
    "name": "ipython",
    "version": 3
   },
   "file_extension": ".py",
   "mimetype": "text/x-python",
   "name": "python",
   "nbconvert_exporter": "python",
   "pygments_lexer": "ipython3",
   "version": "3.7.6"
  }
 },
 "nbformat": 4,
 "nbformat_minor": 1
}
