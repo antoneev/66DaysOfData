{
 "cells": [
  {
   "cell_type": "markdown",
   "metadata": {
    "colab": {
     "base_uri": "https://localhost:8080/"
    },
    "id": "bOR8K8hKxucS",
    "outputId": "94e8a5ae-3af3-495b-e62d-00a4636deb38"
   },
   "source": [
    "# Ran in Google Colab"
   ]
  },
  {
   "cell_type": "markdown",
   "metadata": {
    "id": "lJKhrQu3Ye6Q"
   },
   "source": [
    "# Loading Text File from Kaggle into Dataframe"
   ]
  },
  {
   "cell_type": "code",
   "execution_count": 1,
   "metadata": {
    "colab": {
     "base_uri": "https://localhost:8080/"
    },
    "id": "tx8MjaGCcwqW",
    "outputId": "55437ca0-19b0-48c6-daf1-e56b167987c9"
   },
   "outputs": [
    {
     "name": "stdout",
     "output_type": "stream",
     "text": [
      "Collecting pyspark==2.4.4\n",
      "  Downloading pyspark-2.4.4.tar.gz (215.7 MB)\n",
      "\u001b[K     |████████████████████████████████| 215.7 MB 59 kB/s \n",
      "\u001b[?25hCollecting py4j==0.10.7\n",
      "  Downloading py4j-0.10.7-py2.py3-none-any.whl (197 kB)\n",
      "\u001b[K     |████████████████████████████████| 197 kB 13.0 MB/s \n",
      "\u001b[?25hBuilding wheels for collected packages: pyspark\n",
      "  Building wheel for pyspark (setup.py) ... \u001b[?25l\u001b[?25hdone\n",
      "  Created wheel for pyspark: filename=pyspark-2.4.4-py2.py3-none-any.whl size=216130392 sha256=3b2deed8d172cc866866a27e6b5ff94276622a1b4fe643126bc8979ad2456a52\n",
      "  Stored in directory: /root/.cache/pip/wheels/11/48/19/c3b6b66e4575c164407a83bc065179904ddc33c9d6500846f0\n",
      "Successfully built pyspark\n",
      "Installing collected packages: py4j, pyspark\n",
      "Successfully installed py4j-0.10.7 pyspark-2.4.4\n"
     ]
    }
   ],
   "source": [
    "! pip install --ignore-installed pyspark==2.4.4"
   ]
  },
  {
   "cell_type": "code",
   "execution_count": 2,
   "metadata": {
    "id": "k6jZ-9CWYeqp"
   },
   "outputs": [],
   "source": [
    "! pip install -q kaggle"
   ]
  },
  {
   "cell_type": "code",
   "execution_count": 30,
   "metadata": {
    "colab": {
     "base_uri": "https://localhost:8080/",
     "height": 55,
     "resources": {
      "http://localhost:8080/nbextensions/google.colab/files.js": {
       "data": "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",
       "headers": [
        [
         "content-type",
         "application/javascript"
        ]
       ],
       "ok": true,
       "status": 200,
       "status_text": ""
      }
     }
    },
    "id": "Mi_bSA9mbTpX",
    "outputId": "5e0a3ca5-3111-4aef-999a-b652af5af68c"
   },
   "outputs": [
    {
     "data": {
      "text/html": [
       "\n",
       "     <input type=\"file\" id=\"files-e5fbd930-17ae-442d-af62-d896bddfd2d0\" name=\"files[]\" multiple disabled\n",
       "        style=\"border:none\" />\n",
       "     <output id=\"result-e5fbd930-17ae-442d-af62-d896bddfd2d0\">\n",
       "      Upload widget is only available when the cell has been executed in the\n",
       "      current browser session. Please rerun this cell to enable.\n",
       "      </output>\n",
       "      <script src=\"/nbextensions/google.colab/files.js\"></script> "
      ],
      "text/plain": [
       "<IPython.core.display.HTML object>"
      ]
     },
     "metadata": {},
     "output_type": "display_data"
    },
    {
     "data": {
      "text/plain": [
       "{}"
      ]
     },
     "execution_count": 30,
     "metadata": {},
     "output_type": "execute_result"
    }
   ],
   "source": [
    "from google.colab import files\n",
    "files.upload()"
   ]
  },
  {
   "cell_type": "code",
   "execution_count": 4,
   "metadata": {
    "id": "BaIkmU1Vba9l"
   },
   "outputs": [],
   "source": [
    "! mkdir ~/.kaggle\n",
    "! cp kaggle.json ~/.kaggle/"
   ]
  },
  {
   "cell_type": "code",
   "execution_count": 5,
   "metadata": {
    "id": "MvwDVSNGbiV-"
   },
   "outputs": [],
   "source": [
    "! chmod 600 ~/.kaggle/kaggle.json"
   ]
  },
  {
   "cell_type": "code",
   "execution_count": 6,
   "metadata": {
    "colab": {
     "base_uri": "https://localhost:8080/"
    },
    "id": "1pVYa5uwbyKJ",
    "outputId": "0135ea7d-af14-4c95-f963-38bc7fc64cd0"
   },
   "outputs": [
    {
     "name": "stdout",
     "output_type": "stream",
     "text": [
      "Warning: Looks like you're using an outdated API Version, please consider updating (server 1.5.12 / client 1.5.4)\n",
      "ref                                                         title                                              size  lastUpdated          downloadCount  \n",
      "----------------------------------------------------------  ------------------------------------------------  -----  -------------------  -------------  \n",
      "gpreda/reddit-vaccine-myths                                 Reddit Vaccine Myths                              237KB  2021-12-03 07:25:55          17591  \n",
      "crowww/a-large-scale-fish-dataset                           A Large Scale Fish Dataset                          3GB  2021-04-28 17:03:01          10495  \n",
      "imsparsh/musicnet-dataset                                   MusicNet Dataset                                   22GB  2021-02-18 14:12:19           5172  \n",
      "dhruvildave/wikibooks-dataset                               Wikibooks Dataset                                   2GB  2021-10-22 10:48:21           3795  \n",
      "promptcloud/careerbuilder-job-listing-2020                  Careerbuilder Job Listing 2020                     42MB  2021-03-05 06:59:52           2962  \n",
      "fatiimaezzahra/famous-iconic-women                          Famous Iconic Women                               838MB  2021-02-28 14:56:00           2085  \n",
      "nickuzmenkov/nih-chest-xrays-tfrecords                      NIH Chest X-rays TFRecords                         11GB  2021-03-09 04:49:23           1801  \n",
      "mathurinache/twitter-edge-nodes                             Twitter Edge Nodes                                342MB  2021-03-08 06:43:04           1413  \n",
      "coloradokb/dandelionimages                                  DandelionImages                                     4GB  2021-02-19 20:03:47           1082  \n",
      "mathurinache/the-lj-speech-dataset                          The LJ Speech Dataset                               3GB  2021-02-15 09:19:54            551  \n",
      "simiotic/github-code-snippets                               GitHub Code Snippets                                7GB  2021-03-03 11:34:39            542  \n",
      "alsgroup/end-als                                            End ALS Kaggle Challenge                           12GB  2021-04-08 12:16:37           1160  \n",
      "imsparsh/accentdb-core-extended                             AccentDB - Core & Extended                          6GB  2021-02-17 14:22:54            201  \n",
      "stuartjames/lights                                          LightS: Light Specularity Dataset                  18GB  2021-02-18 14:32:26            243  \n",
      "nickuzmenkov/ranzcr-clip-kfold-tfrecords                    RANZCR CLiP KFold TFRecords                         2GB  2021-02-21 13:29:51            169  \n",
      "landrykezebou/lvzhdr-tone-mapping-benchmark-dataset-tmonet  LVZ-HDR Tone Mapping Benchmark Dataset (TMO-Net)   24GB  2021-03-01 05:03:40            253  \n",
      "datasnaek/youtube-new                                       Trending YouTube Video Statistics                 201MB  2019-06-03 00:56:47         161050  \n",
      "zynicide/wine-reviews                                       Wine Reviews                                       51MB  2017-11-27 17:08:04         150655  \n",
      "residentmario/ramen-ratings                                 Ramen Ratings                                      40KB  2018-01-11 16:04:39          31018  \n",
      "datasnaek/chess                                             Chess Game Dataset (Lichess)                        3MB  2017-09-04 03:09:09          26187  \n"
     ]
    }
   ],
   "source": [
    "! kaggle datasets list"
   ]
  },
  {
   "cell_type": "code",
   "execution_count": 7,
   "metadata": {
    "colab": {
     "base_uri": "https://localhost:8080/"
    },
    "id": "uIQ6XL7tbkzD",
    "outputId": "b1e96e17-848e-43ce-cc33-d2eef04a955b"
   },
   "outputs": [
    {
     "name": "stdout",
     "output_type": "stream",
     "text": [
      "Downloading electric-power-consumption-data-set.zip to /content\n",
      " 26% 5.00M/19.4M [00:00<00:00, 25.9MB/s]\n",
      "100% 19.4M/19.4M [00:00<00:00, 64.7MB/s]\n"
     ]
    }
   ],
   "source": [
    "! kaggle datasets download -d uciml/electric-power-consumption-data-set"
   ]
  },
  {
   "cell_type": "code",
   "execution_count": 8,
   "metadata": {
    "colab": {
     "base_uri": "https://localhost:8080/"
    },
    "id": "ALgZqGBPcYfj",
    "outputId": "e6bde846-94d4-458d-873c-7d7d7694a319"
   },
   "outputs": [
    {
     "name": "stdout",
     "output_type": "stream",
     "text": [
      "Archive:  electric-power-consumption-data-set.zip\n",
      "  inflating: household_power_consumption.txt  \n"
     ]
    }
   ],
   "source": [
    "! unzip electric-power-consumption-data-set.zip"
   ]
  },
  {
   "cell_type": "code",
   "execution_count": 9,
   "metadata": {
    "id": "KigJuw9ccjwQ"
   },
   "outputs": [],
   "source": [
    "from pyspark.sql import SparkSession"
   ]
  },
  {
   "cell_type": "code",
   "execution_count": 10,
   "metadata": {
    "id": "6NemhyzJdImc"
   },
   "outputs": [],
   "source": [
    "spark = SparkSession.builder.getOrCreate()"
   ]
  },
  {
   "cell_type": "code",
   "execution_count": 11,
   "metadata": {
    "id": "fgkA4eFnd0lI"
   },
   "outputs": [],
   "source": [
    "df = spark.read.text('household_power_consumption.txt')"
   ]
  },
  {
   "cell_type": "code",
   "execution_count": 12,
   "metadata": {
    "colab": {
     "base_uri": "https://localhost:8080/"
    },
    "id": "Mw98NrLvcHbx",
    "outputId": "fc5225aa-795a-405d-9ab3-c2280a0daa1c"
   },
   "outputs": [
    {
     "name": "stdout",
     "output_type": "stream",
     "text": [
      "+--------------------+\n",
      "|               value|\n",
      "+--------------------+\n",
      "|Date;Time;Global_...|\n",
      "|16/12/2006;17:24:...|\n",
      "|16/12/2006;17:25:...|\n",
      "|16/12/2006;17:26:...|\n",
      "|16/12/2006;17:27:...|\n",
      "+--------------------+\n",
      "only showing top 5 rows\n",
      "\n"
     ]
    }
   ],
   "source": [
    "df.show(5)"
   ]
  },
  {
   "cell_type": "code",
   "execution_count": 13,
   "metadata": {
    "colab": {
     "base_uri": "https://localhost:8080/"
    },
    "id": "3sBE7an5dy8t",
    "outputId": "5420c5ee-4482-4dee-d24c-af0109979e24"
   },
   "outputs": [
    {
     "name": "stdout",
     "output_type": "stream",
     "text": [
      "+-----------------------------------------------------------------------------------------------------------------------------------+\n",
      "|Text_Data_In_A_Single_Column                                                                                                       |\n",
      "+-----------------------------------------------------------------------------------------------------------------------------------+\n",
      "|[Date, Time, Global_active_power, Global_reactive_power, Voltage, Global_intensity, Sub_metering_1, Sub_metering_2, Sub_metering_3]|\n",
      "|[16/12/2006, 17:24:00, 4.216, 0.418, 234.840, 18.400, 0.000, 1.000, 17.000]                                                        |\n",
      "|[16/12/2006, 17:25:00, 5.360, 0.436, 233.630, 23.000, 0.000, 1.000, 16.000]                                                        |\n",
      "|[16/12/2006, 17:26:00, 5.374, 0.498, 233.290, 23.000, 0.000, 2.000, 17.000]                                                        |\n",
      "|[16/12/2006, 17:27:00, 5.388, 0.502, 233.740, 23.000, 0.000, 1.000, 17.000]                                                        |\n",
      "+-----------------------------------------------------------------------------------------------------------------------------------+\n",
      "only showing top 5 rows\n",
      "\n"
     ]
    }
   ],
   "source": [
    "dfColumnsNotSplit = df.selectExpr(\"split(value, ';')\\\n",
    "as Text_Data_In_A_Single_Column\")\n",
    "\n",
    "dfColumnsNotSplit.show(5,False)"
   ]
  },
  {
   "cell_type": "code",
   "execution_count": 14,
   "metadata": {
    "colab": {
     "base_uri": "https://localhost:8080/"
    },
    "id": "Ji3i2plMgE0Y",
    "outputId": "bdfe56f5-e90b-42a4-8bb5-da937a04871a"
   },
   "outputs": [
    {
     "name": "stdout",
     "output_type": "stream",
     "text": [
      "+----------+--------+-------------------+---------------------+-------+----------------+--------------+--------------+--------------+\n",
      "|Date      |Time    |Global_active_power|Global_reactive_power|Voltage|Global_intensity|Sub_metering_1|Sub_metering_2|Sub_metering_3|\n",
      "+----------+--------+-------------------+---------------------+-------+----------------+--------------+--------------+--------------+\n",
      "|16/12/2006|17:24:00|4.216              |0.418                |234.840|18.400          |0.000         |1.000         |17.0          |\n",
      "|16/12/2006|17:25:00|5.360              |0.436                |233.630|23.000          |0.000         |1.000         |16.0          |\n",
      "|16/12/2006|17:26:00|5.374              |0.498                |233.290|23.000          |0.000         |2.000         |17.0          |\n",
      "|16/12/2006|17:27:00|5.388              |0.502                |233.740|23.000          |0.000         |1.000         |17.0          |\n",
      "|16/12/2006|17:28:00|3.666              |0.528                |235.680|15.800          |0.000         |1.000         |17.0          |\n",
      "+----------+--------+-------------------+---------------------+-------+----------------+--------------+--------------+--------------+\n",
      "only showing top 5 rows\n",
      "\n"
     ]
    }
   ],
   "source": [
    "dfColumnsSplit = spark.read.option(\"header\", \"true\") \\\n",
    "    .option(\"delimiter\", \";\") \\\n",
    "    .option(\"inferSchema\", \"true\") \\\n",
    "    .csv(\"household_power_consumption.txt\")\n",
    "\n",
    "dfColumnsSplit.show(5, truncate=False)"
   ]
  },
  {
   "cell_type": "markdown",
   "metadata": {
    "id": "nMHvrBI76gVG"
   },
   "source": [
    "# Select Query"
   ]
  },
  {
   "cell_type": "markdown",
   "metadata": {
    "id": "OPRWD95n6srB"
   },
   "source": [
    "## Show a single column"
   ]
  },
  {
   "cell_type": "code",
   "execution_count": 15,
   "metadata": {
    "colab": {
     "base_uri": "https://localhost:8080/"
    },
    "id": "hfu2pvOA6byO",
    "outputId": "4dbfec42-cc19-4eaf-e100-2186a8097a08"
   },
   "outputs": [
    {
     "name": "stdout",
     "output_type": "stream",
     "text": [
      "+-------------------+\n",
      "|Global_active_power|\n",
      "+-------------------+\n",
      "|              4.216|\n",
      "|              5.360|\n",
      "|              5.374|\n",
      "|              5.388|\n",
      "|              3.666|\n",
      "+-------------------+\n",
      "only showing top 5 rows\n",
      "\n"
     ]
    }
   ],
   "source": [
    "dfColumnsSplit.select(\"Global_active_power\").show(5) "
   ]
  },
  {
   "cell_type": "markdown",
   "metadata": {
    "id": "2zOVcBYf64fb"
   },
   "source": [
    "## Showing multiple columns"
   ]
  },
  {
   "cell_type": "code",
   "execution_count": 16,
   "metadata": {
    "colab": {
     "base_uri": "https://localhost:8080/"
    },
    "id": "0BjDaKTf61om",
    "outputId": "13f96ae3-0315-47aa-e427-43cb42592541"
   },
   "outputs": [
    {
     "name": "stdout",
     "output_type": "stream",
     "text": [
      "+-------------------+---------------------+-------+----------------+\n",
      "|Global_active_power|Global_reactive_power|Voltage|Global_intensity|\n",
      "+-------------------+---------------------+-------+----------------+\n",
      "|              4.216|                0.418|234.840|          18.400|\n",
      "|              5.360|                0.436|233.630|          23.000|\n",
      "|              5.374|                0.498|233.290|          23.000|\n",
      "|              5.388|                0.502|233.740|          23.000|\n",
      "|              3.666|                0.528|235.680|          15.800|\n",
      "+-------------------+---------------------+-------+----------------+\n",
      "only showing top 5 rows\n",
      "\n"
     ]
    }
   ],
   "source": [
    "dfColumnsSplit.select(\"Global_active_power\", \"Global_reactive_power\", \"Voltage\", \"Global_intensity\").show(5)"
   ]
  },
  {
   "cell_type": "markdown",
   "metadata": {
    "id": "S90HwLNowf_7"
   },
   "source": [
    "# Like Query"
   ]
  },
  {
   "cell_type": "code",
   "execution_count": 17,
   "metadata": {
    "colab": {
     "base_uri": "https://localhost:8080/"
    },
    "id": "ISdksBoXwfOz",
    "outputId": "936ce9bb-76cf-49d7-ddb4-e3a0bc236d58"
   },
   "outputs": [
    {
     "name": "stdout",
     "output_type": "stream",
     "text": [
      "+-------------------+------------------------------+\n",
      "|Global_active_power|Global_active_power LIKE 5.388|\n",
      "+-------------------+------------------------------+\n",
      "|              4.216|                         false|\n",
      "|              5.360|                         false|\n",
      "|              5.374|                         false|\n",
      "|              5.388|                          true|\n",
      "|              3.666|                         false|\n",
      "+-------------------+------------------------------+\n",
      "only showing top 5 rows\n",
      "\n"
     ]
    }
   ],
   "source": [
    "dfColumnsSplit.select(\"Global_active_power\", dfColumnsSplit.Global_active_power.like(\"5.388\")).show(5)"
   ]
  },
  {
   "cell_type": "markdown",
   "metadata": {
    "id": "UXO4hxyUykGS"
   },
   "source": [
    "# Filter Query"
   ]
  },
  {
   "cell_type": "code",
   "execution_count": 18,
   "metadata": {
    "colab": {
     "base_uri": "https://localhost:8080/"
    },
    "id": "4pgv6Y7WxysV",
    "outputId": "00c4832f-119a-441b-9e21-aba8a415b2cd"
   },
   "outputs": [
    {
     "name": "stdout",
     "output_type": "stream",
     "text": [
      "+----------+--------+-------------------+---------------------+-------+----------------+--------------+--------------+--------------+\n",
      "|      Date|    Time|Global_active_power|Global_reactive_power|Voltage|Global_intensity|Sub_metering_1|Sub_metering_2|Sub_metering_3|\n",
      "+----------+--------+-------------------+---------------------+-------+----------------+--------------+--------------+--------------+\n",
      "|16/12/2006|17:27:00|              5.388|                0.502|233.740|          23.000|         0.000|         1.000|          17.0|\n",
      "|22/12/2006|20:53:00|              5.388|                0.252|232.360|          23.200|        36.000|         1.000|          17.0|\n",
      "|24/12/2006|00:04:00|              5.388|                0.000|236.980|          22.600|         0.000|         0.000|          17.0|\n",
      "|28/12/2006|19:00:00|              5.388|                0.176|234.950|          22.800|         0.000|        38.000|          17.0|\n",
      "|28/12/2006|19:07:00|              5.388|                0.182|234.530|          23.000|         0.000|        37.000|          17.0|\n",
      "+----------+--------+-------------------+---------------------+-------+----------------+--------------+--------------+--------------+\n",
      "only showing top 5 rows\n",
      "\n"
     ]
    }
   ],
   "source": [
    "dfColumnsSplit.filter \\\n",
    "    (dfColumnsSplit.Global_active_power == \"5.388\").show(5)"
   ]
  },
  {
   "cell_type": "markdown",
   "metadata": {
    "id": "GL538T0GUoEC"
   },
   "source": [
    "# Group By Query"
   ]
  },
  {
   "cell_type": "code",
   "execution_count": 19,
   "metadata": {
    "colab": {
     "base_uri": "https://localhost:8080/"
    },
    "id": "Ap-jOTX7S2Fc",
    "outputId": "9e42394a-da78-43dc-a629-c29a32cbe835"
   },
   "outputs": [
    {
     "name": "stdout",
     "output_type": "stream",
     "text": [
      "+----------+-----+\n",
      "|      Date|count|\n",
      "+----------+-----+\n",
      "| 30/1/2007| 1440|\n",
      "| 13/2/2007| 1440|\n",
      "|19/11/2007| 1440|\n",
      "| 12/1/2008| 1440|\n",
      "| 26/2/2008| 1440|\n",
      "+----------+-----+\n",
      "only showing top 5 rows\n",
      "\n"
     ]
    }
   ],
   "source": [
    "dfColumnsSplit.groupBy(\"Date\").count().show(5)"
   ]
  },
  {
   "cell_type": "markdown",
   "metadata": {
    "id": "3pXywLH1_QXT"
   },
   "source": [
    "# Handling NaNs "
   ]
  },
  {
   "cell_type": "markdown",
   "metadata": {
    "id": "OUCH72EwenV9"
   },
   "source": [
    "## Finds NaNs"
   ]
  },
  {
   "cell_type": "code",
   "execution_count": 20,
   "metadata": {
    "colab": {
     "base_uri": "https://localhost:8080/"
    },
    "id": "SOaCB_mqjJrF",
    "outputId": "d5323112-44cf-4c13-f08c-e02220f9b065"
   },
   "outputs": [
    {
     "name": "stdout",
     "output_type": "stream",
     "text": [
      "+----------+--------+-------------------+---------------------+-------+----------------+--------------+--------------+--------------+\n",
      "|      Date|    Time|Global_active_power|Global_reactive_power|Voltage|Global_intensity|Sub_metering_1|Sub_metering_2|Sub_metering_3|\n",
      "+----------+--------+-------------------+---------------------+-------+----------------+--------------+--------------+--------------+\n",
      "|21/12/2006|11:23:00|                  ?|                    ?|      ?|               ?|             ?|             ?|          null|\n",
      "|21/12/2006|11:24:00|                  ?|                    ?|      ?|               ?|             ?|             ?|          null|\n",
      "|30/12/2006|10:08:00|                  ?|                    ?|      ?|               ?|             ?|             ?|          null|\n",
      "|30/12/2006|10:09:00|                  ?|                    ?|      ?|               ?|             ?|             ?|          null|\n",
      "| 14/1/2007|18:36:00|                  ?|                    ?|      ?|               ?|             ?|             ?|          null|\n",
      "+----------+--------+-------------------+---------------------+-------+----------------+--------------+--------------+--------------+\n",
      "only showing top 5 rows\n",
      "\n"
     ]
    }
   ],
   "source": [
    "dfColumnsSplit.filter(\"Sub_metering_3 is NULL\").show(5)"
   ]
  },
  {
   "cell_type": "markdown",
   "metadata": {
    "id": "4Uxy_1lq_U3Z"
   },
   "source": [
    "## Fill NaNs"
   ]
  },
  {
   "cell_type": "code",
   "execution_count": 21,
   "metadata": {
    "id": "--reO_-a-SAh"
   },
   "outputs": [],
   "source": [
    "dfColumnsNaNFill = dfColumnsSplit.na.fill(123456)"
   ]
  },
  {
   "cell_type": "code",
   "execution_count": 22,
   "metadata": {
    "colab": {
     "base_uri": "https://localhost:8080/"
    },
    "id": "z7dpSac5-wD9",
    "outputId": "060fcb13-9780-49bd-d01b-5d944e1bf340"
   },
   "outputs": [
    {
     "name": "stdout",
     "output_type": "stream",
     "text": [
      "+----------+--------+-------------------+---------------------+-------+----------------+--------------+--------------+--------------+\n",
      "|      Date|    Time|Global_active_power|Global_reactive_power|Voltage|Global_intensity|Sub_metering_1|Sub_metering_2|Sub_metering_3|\n",
      "+----------+--------+-------------------+---------------------+-------+----------------+--------------+--------------+--------------+\n",
      "|21/12/2006|11:23:00|                  ?|                    ?|      ?|               ?|             ?|             ?|      123456.0|\n",
      "|21/12/2006|11:24:00|                  ?|                    ?|      ?|               ?|             ?|             ?|      123456.0|\n",
      "|30/12/2006|10:08:00|                  ?|                    ?|      ?|               ?|             ?|             ?|      123456.0|\n",
      "|30/12/2006|10:09:00|                  ?|                    ?|      ?|               ?|             ?|             ?|      123456.0|\n",
      "| 14/1/2007|18:36:00|                  ?|                    ?|      ?|               ?|             ?|             ?|      123456.0|\n",
      "+----------+--------+-------------------+---------------------+-------+----------------+--------------+--------------+--------------+\n",
      "only showing top 5 rows\n",
      "\n"
     ]
    }
   ],
   "source": [
    "dfColumnsNaNFill.filter \\\n",
    "    (dfColumnsNaNFill.Sub_metering_3 == \"123456\").show(5)"
   ]
  },
  {
   "cell_type": "markdown",
   "metadata": {
    "id": "ST-0HP9njG1E"
   },
   "source": [
    "# Modify Table"
   ]
  },
  {
   "cell_type": "markdown",
   "metadata": {
    "id": "mL8Ub8SvjLO9"
   },
   "source": [
    "## Update Query - One Column's value\n"
   ]
  },
  {
   "cell_type": "code",
   "execution_count": 23,
   "metadata": {
    "id": "AIJZ5mZ-j_EB"
   },
   "outputs": [],
   "source": [
    "from pyspark.sql import functions as F"
   ]
  },
  {
   "cell_type": "code",
   "execution_count": 24,
   "metadata": {
    "id": "YurP_R0IjGjb"
   },
   "outputs": [],
   "source": [
    "dfColumnsFill_OneColumn = dfColumnsNaNFill.withColumn \\\n",
    "    (\"Global_active_power\", F.when(F.col(\"Global_active_power\")=='?', 100).otherwise(F.col(\"Global_active_power\")))\n"
   ]
  },
  {
   "cell_type": "code",
   "execution_count": 25,
   "metadata": {
    "colab": {
     "base_uri": "https://localhost:8080/"
    },
    "id": "s8rH3A-ikNw2",
    "outputId": "5ffd9a48-e95a-450a-c458-d52215ce043a"
   },
   "outputs": [
    {
     "name": "stdout",
     "output_type": "stream",
     "text": [
      "+----------+--------+-------------------+---------------------+-------+----------------+--------------+--------------+--------------+\n",
      "|      Date|    Time|Global_active_power|Global_reactive_power|Voltage|Global_intensity|Sub_metering_1|Sub_metering_2|Sub_metering_3|\n",
      "+----------+--------+-------------------+---------------------+-------+----------------+--------------+--------------+--------------+\n",
      "|21/12/2006|11:23:00|                100|                    ?|      ?|               ?|             ?|             ?|      123456.0|\n",
      "|21/12/2006|11:24:00|                100|                    ?|      ?|               ?|             ?|             ?|      123456.0|\n",
      "|30/12/2006|10:08:00|                100|                    ?|      ?|               ?|             ?|             ?|      123456.0|\n",
      "|30/12/2006|10:09:00|                100|                    ?|      ?|               ?|             ?|             ?|      123456.0|\n",
      "| 14/1/2007|18:36:00|                100|                    ?|      ?|               ?|             ?|             ?|      123456.0|\n",
      "+----------+--------+-------------------+---------------------+-------+----------------+--------------+--------------+--------------+\n",
      "only showing top 5 rows\n",
      "\n"
     ]
    }
   ],
   "source": [
    "dfColumnsFill_OneColumn.filter \\\n",
    "    (dfColumnsFill_OneColumn.Sub_metering_3 == \"123456\").show(5)"
   ]
  },
  {
   "cell_type": "markdown",
   "metadata": {
    "id": "Ei2rqVy7uyPp"
   },
   "source": [
    "## Update Query - All Columns value\n"
   ]
  },
  {
   "cell_type": "code",
   "execution_count": 26,
   "metadata": {
    "id": "ZJn9XEBAuxjm"
   },
   "outputs": [],
   "source": [
    "cols = dfColumnsNaNFill.columns\n",
    "for col in cols:\n",
    "  dfColumnsNaNFill = dfColumnsNaNFill.withColumn(col, F.when(dfColumnsNaNFill[col] == \"?\",100).otherwise(F.col(col)))"
   ]
  },
  {
   "cell_type": "code",
   "execution_count": 27,
   "metadata": {
    "colab": {
     "base_uri": "https://localhost:8080/"
    },
    "id": "W65f_FQowek3",
    "outputId": "a255dea2-6270-4f8c-a23c-260794acc525"
   },
   "outputs": [
    {
     "name": "stdout",
     "output_type": "stream",
     "text": [
      "+----------+--------+-------------------+---------------------+-------+----------------+--------------+--------------+--------------+\n",
      "|      Date|    Time|Global_active_power|Global_reactive_power|Voltage|Global_intensity|Sub_metering_1|Sub_metering_2|Sub_metering_3|\n",
      "+----------+--------+-------------------+---------------------+-------+----------------+--------------+--------------+--------------+\n",
      "|21/12/2006|11:23:00|                100|                  100|    100|             100|           100|           100|      123456.0|\n",
      "|21/12/2006|11:24:00|                100|                  100|    100|             100|           100|           100|      123456.0|\n",
      "|30/12/2006|10:08:00|                100|                  100|    100|             100|           100|           100|      123456.0|\n",
      "|30/12/2006|10:09:00|                100|                  100|    100|             100|           100|           100|      123456.0|\n",
      "| 14/1/2007|18:36:00|                100|                  100|    100|             100|           100|           100|      123456.0|\n",
      "+----------+--------+-------------------+---------------------+-------+----------------+--------------+--------------+--------------+\n",
      "only showing top 5 rows\n",
      "\n"
     ]
    }
   ],
   "source": [
    "dfColumnsNaNFill.filter \\\n",
    "    (dfColumnsFill_OneColumn.Sub_metering_3 == \"123456\").show(5)"
   ]
  },
  {
   "cell_type": "markdown",
   "metadata": {
    "id": "_O1F2Ao2RHCx"
   },
   "source": [
    "# Add Query"
   ]
  },
  {
   "cell_type": "code",
   "execution_count": 28,
   "metadata": {
    "id": "TWFhunQdRK74"
   },
   "outputs": [],
   "source": [
    "newRow = spark.createDataFrame([('21/12/2021','17:24:00',4.216,0.418,234.840,18.400,0.00,0.01,17.0)], dfColumnsSplit.columns)\n",
    "\n",
    "dfColumnsSplit_NewRow = dfColumnsSplit.union(newRow)"
   ]
  },
  {
   "cell_type": "code",
   "execution_count": 29,
   "metadata": {
    "colab": {
     "base_uri": "https://localhost:8080/"
    },
    "id": "lliXt9qsRTeI",
    "outputId": "06170f3d-73ca-4ac3-e274-0b28d14c7fe8"
   },
   "outputs": [
    {
     "name": "stdout",
     "output_type": "stream",
     "text": [
      "+----------+--------+-------------------+---------------------+-------+----------------+--------------+--------------+--------------+\n",
      "|      Date|    Time|Global_active_power|Global_reactive_power|Voltage|Global_intensity|Sub_metering_1|Sub_metering_2|Sub_metering_3|\n",
      "+----------+--------+-------------------+---------------------+-------+----------------+--------------+--------------+--------------+\n",
      "|21/12/2021|17:24:00|              4.216|                0.418| 234.84|            18.4|           0.0|          0.01|          17.0|\n",
      "+----------+--------+-------------------+---------------------+-------+----------------+--------------+--------------+--------------+\n",
      "\n"
     ]
    }
   ],
   "source": [
    "dfColumnsSplit_NewRow.filter \\\n",
    "    (dfColumnsSplit_NewRow.Date == '21/12/2021').show(5)"
   ]
  },
  {
   "cell_type": "code",
   "execution_count": 31,
   "metadata": {
    "id": "iHkanmGwcliq"
   },
   "outputs": [],
   "source": [
    "spark.stop()"
   ]
  }
 ],
 "metadata": {
  "colab": {
   "collapsed_sections": [],
   "name": "PySpark - Hello World.ipynb",
   "provenance": []
  },
  "kernelspec": {
   "display_name": "Python 3",
   "language": "python",
   "name": "python3"
  },
  "language_info": {
   "codemirror_mode": {
    "name": "ipython",
    "version": 3
   },
   "file_extension": ".py",
   "mimetype": "text/x-python",
   "name": "python",
   "nbconvert_exporter": "python",
   "pygments_lexer": "ipython3",
   "version": "3.7.6"
  }
 },
 "nbformat": 4,
 "nbformat_minor": 1
}
