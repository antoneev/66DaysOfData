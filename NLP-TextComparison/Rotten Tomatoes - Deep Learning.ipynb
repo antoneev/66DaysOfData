{
 "cells": [
  {
   "cell_type": "markdown",
   "metadata": {},
   "source": [
    "dataset: https://www.kaggle.com/stefanoleone992/rotten-tomatoes-movies-and-critic-reviews-dataset"
   ]
  },
  {
   "cell_type": "code",
   "execution_count": 1,
   "metadata": {},
   "outputs": [],
   "source": [
    "import warnings\n",
    "warnings.filterwarnings(\"ignore\")"
   ]
  },
  {
   "cell_type": "markdown",
   "metadata": {},
   "source": [
    "# Load Data"
   ]
  },
  {
   "cell_type": "code",
   "execution_count": 2,
   "metadata": {},
   "outputs": [],
   "source": [
    "import pandas as pd"
   ]
  },
  {
   "cell_type": "code",
   "execution_count": 3,
   "metadata": {},
   "outputs": [
    {
     "data": {
      "text/html": [
       "<div>\n",
       "<style scoped>\n",
       "    .dataframe tbody tr th:only-of-type {\n",
       "        vertical-align: middle;\n",
       "    }\n",
       "\n",
       "    .dataframe tbody tr th {\n",
       "        vertical-align: top;\n",
       "    }\n",
       "\n",
       "    .dataframe thead th {\n",
       "        text-align: right;\n",
       "    }\n",
       "</style>\n",
       "<table border=\"1\" class=\"dataframe\">\n",
       "  <thead>\n",
       "    <tr style=\"text-align: right;\">\n",
       "      <th></th>\n",
       "      <th>rotten_tomatoes_link</th>\n",
       "      <th>critic_name</th>\n",
       "      <th>top_critic</th>\n",
       "      <th>publisher_name</th>\n",
       "      <th>review_type</th>\n",
       "      <th>review_score</th>\n",
       "      <th>review_date</th>\n",
       "      <th>review_content</th>\n",
       "    </tr>\n",
       "  </thead>\n",
       "  <tbody>\n",
       "    <tr>\n",
       "      <th>0</th>\n",
       "      <td>m/0814255</td>\n",
       "      <td>Andrew L. Urban</td>\n",
       "      <td>False</td>\n",
       "      <td>Urban Cinefile</td>\n",
       "      <td>Fresh</td>\n",
       "      <td>NaN</td>\n",
       "      <td>2010-02-06</td>\n",
       "      <td>A fantasy adventure that fuses Greek mythology...</td>\n",
       "    </tr>\n",
       "    <tr>\n",
       "      <th>1</th>\n",
       "      <td>m/0814255</td>\n",
       "      <td>Louise Keller</td>\n",
       "      <td>False</td>\n",
       "      <td>Urban Cinefile</td>\n",
       "      <td>Fresh</td>\n",
       "      <td>NaN</td>\n",
       "      <td>2010-02-06</td>\n",
       "      <td>Uma Thurman as Medusa, the gorgon with a coiff...</td>\n",
       "    </tr>\n",
       "    <tr>\n",
       "      <th>2</th>\n",
       "      <td>m/0814255</td>\n",
       "      <td>NaN</td>\n",
       "      <td>False</td>\n",
       "      <td>FILMINK (Australia)</td>\n",
       "      <td>Fresh</td>\n",
       "      <td>NaN</td>\n",
       "      <td>2010-02-09</td>\n",
       "      <td>With a top-notch cast and dazzling special eff...</td>\n",
       "    </tr>\n",
       "    <tr>\n",
       "      <th>3</th>\n",
       "      <td>m/0814255</td>\n",
       "      <td>Ben McEachen</td>\n",
       "      <td>False</td>\n",
       "      <td>Sunday Mail (Australia)</td>\n",
       "      <td>Fresh</td>\n",
       "      <td>3.5/5</td>\n",
       "      <td>2010-02-09</td>\n",
       "      <td>Whether audiences will get behind The Lightnin...</td>\n",
       "    </tr>\n",
       "    <tr>\n",
       "      <th>4</th>\n",
       "      <td>m/0814255</td>\n",
       "      <td>Ethan Alter</td>\n",
       "      <td>True</td>\n",
       "      <td>Hollywood Reporter</td>\n",
       "      <td>Rotten</td>\n",
       "      <td>NaN</td>\n",
       "      <td>2010-02-10</td>\n",
       "      <td>What's really lacking in The Lightning Thief i...</td>\n",
       "    </tr>\n",
       "  </tbody>\n",
       "</table>\n",
       "</div>"
      ],
      "text/plain": [
       "  rotten_tomatoes_link      critic_name  top_critic           publisher_name  \\\n",
       "0            m/0814255  Andrew L. Urban       False           Urban Cinefile   \n",
       "1            m/0814255    Louise Keller       False           Urban Cinefile   \n",
       "2            m/0814255              NaN       False      FILMINK (Australia)   \n",
       "3            m/0814255     Ben McEachen       False  Sunday Mail (Australia)   \n",
       "4            m/0814255      Ethan Alter        True       Hollywood Reporter   \n",
       "\n",
       "  review_type review_score review_date  \\\n",
       "0       Fresh          NaN  2010-02-06   \n",
       "1       Fresh          NaN  2010-02-06   \n",
       "2       Fresh          NaN  2010-02-09   \n",
       "3       Fresh        3.5/5  2010-02-09   \n",
       "4      Rotten          NaN  2010-02-10   \n",
       "\n",
       "                                      review_content  \n",
       "0  A fantasy adventure that fuses Greek mythology...  \n",
       "1  Uma Thurman as Medusa, the gorgon with a coiff...  \n",
       "2  With a top-notch cast and dazzling special eff...  \n",
       "3  Whether audiences will get behind The Lightnin...  \n",
       "4  What's really lacking in The Lightning Thief i...  "
      ]
     },
     "execution_count": 3,
     "metadata": {},
     "output_type": "execute_result"
    }
   ],
   "source": [
    "rotten_tomatoes_critic_reviews = pd.read_csv('rotten_tomatoes-datasets/rotten_tomatoes_critic_reviews.csv')\n",
    "rotten_tomatoes_critic_reviews.head()"
   ]
  },
  {
   "cell_type": "code",
   "execution_count": 4,
   "metadata": {},
   "outputs": [
    {
     "data": {
      "text/html": [
       "<div>\n",
       "<style scoped>\n",
       "    .dataframe tbody tr th:only-of-type {\n",
       "        vertical-align: middle;\n",
       "    }\n",
       "\n",
       "    .dataframe tbody tr th {\n",
       "        vertical-align: top;\n",
       "    }\n",
       "\n",
       "    .dataframe thead th {\n",
       "        text-align: right;\n",
       "    }\n",
       "</style>\n",
       "<table border=\"1\" class=\"dataframe\">\n",
       "  <thead>\n",
       "    <tr style=\"text-align: right;\">\n",
       "      <th></th>\n",
       "      <th>review_type</th>\n",
       "      <th>review_content</th>\n",
       "    </tr>\n",
       "  </thead>\n",
       "  <tbody>\n",
       "    <tr>\n",
       "      <th>0</th>\n",
       "      <td>Fresh</td>\n",
       "      <td>A fantasy adventure that fuses Greek mythology...</td>\n",
       "    </tr>\n",
       "    <tr>\n",
       "      <th>1</th>\n",
       "      <td>Fresh</td>\n",
       "      <td>Uma Thurman as Medusa, the gorgon with a coiff...</td>\n",
       "    </tr>\n",
       "    <tr>\n",
       "      <th>2</th>\n",
       "      <td>Fresh</td>\n",
       "      <td>With a top-notch cast and dazzling special eff...</td>\n",
       "    </tr>\n",
       "    <tr>\n",
       "      <th>3</th>\n",
       "      <td>Fresh</td>\n",
       "      <td>Whether audiences will get behind The Lightnin...</td>\n",
       "    </tr>\n",
       "    <tr>\n",
       "      <th>4</th>\n",
       "      <td>Rotten</td>\n",
       "      <td>What's really lacking in The Lightning Thief i...</td>\n",
       "    </tr>\n",
       "  </tbody>\n",
       "</table>\n",
       "</div>"
      ],
      "text/plain": [
       "  review_type                                     review_content\n",
       "0       Fresh  A fantasy adventure that fuses Greek mythology...\n",
       "1       Fresh  Uma Thurman as Medusa, the gorgon with a coiff...\n",
       "2       Fresh  With a top-notch cast and dazzling special eff...\n",
       "3       Fresh  Whether audiences will get behind The Lightnin...\n",
       "4      Rotten  What's really lacking in The Lightning Thief i..."
      ]
     },
     "execution_count": 4,
     "metadata": {},
     "output_type": "execute_result"
    }
   ],
   "source": [
    "df = rotten_tomatoes_critic_reviews[[\"review_type\", \"review_content\"]]\n",
    "df.head()"
   ]
  },
  {
   "cell_type": "code",
   "execution_count": 5,
   "metadata": {},
   "outputs": [],
   "source": [
    "df.loc[df['review_type'] == 'Fresh', 'label'] = 1 \n",
    "df.loc[df['review_type'] == 'Rotten', 'label'] = 0  "
   ]
  },
  {
   "cell_type": "markdown",
   "metadata": {},
   "source": [
    "# Remove NaNs"
   ]
  },
  {
   "cell_type": "code",
   "execution_count": 6,
   "metadata": {},
   "outputs": [
    {
     "data": {
      "text/plain": [
       "review_type           0\n",
       "review_content    65806\n",
       "label                 0\n",
       "dtype: int64"
      ]
     },
     "execution_count": 6,
     "metadata": {},
     "output_type": "execute_result"
    }
   ],
   "source": [
    "df.isna().sum()"
   ]
  },
  {
   "cell_type": "code",
   "execution_count": 7,
   "metadata": {},
   "outputs": [],
   "source": [
    "df = df.dropna()"
   ]
  },
  {
   "cell_type": "code",
   "execution_count": 8,
   "metadata": {},
   "outputs": [
    {
     "data": {
      "text/plain": [
       "review_type       0\n",
       "review_content    0\n",
       "label             0\n",
       "dtype: int64"
      ]
     },
     "execution_count": 8,
     "metadata": {},
     "output_type": "execute_result"
    }
   ],
   "source": [
    "df.isna().sum()"
   ]
  },
  {
   "cell_type": "markdown",
   "metadata": {},
   "source": [
    "# Display Data"
   ]
  },
  {
   "cell_type": "code",
   "execution_count": 9,
   "metadata": {},
   "outputs": [],
   "source": [
    "import seaborn as sns"
   ]
  },
  {
   "cell_type": "code",
   "execution_count": 10,
   "metadata": {},
   "outputs": [
    {
     "data": {
      "text/plain": [
       "Text(0.5, 1.0, 'Dataframe count of Fresh vs. Rotten Reviews')"
      ]
     },
     "execution_count": 10,
     "metadata": {},
     "output_type": "execute_result"
    },
    {
     "data": {
      "image/png": "[encoded data removed]",
      "text/plain": [
       "<Figure size 432x288 with 1 Axes>"
      ]
     },
     "metadata": {},
     "output_type": "display_data"
    }
   ],
   "source": [
    "sns.set_style(\"whitegrid\")\n",
    "sns.countplot(df.review_type).set_title(\"Dataframe count of Fresh vs. Rotten Reviews\")"
   ]
  },
  {
   "cell_type": "code",
   "execution_count": 11,
   "metadata": {},
   "outputs": [
    {
     "data": {
      "text/html": [
       "<div>\n",
       "<style scoped>\n",
       "    .dataframe tbody tr th:only-of-type {\n",
       "        vertical-align: middle;\n",
       "    }\n",
       "\n",
       "    .dataframe tbody tr th {\n",
       "        vertical-align: top;\n",
       "    }\n",
       "\n",
       "    .dataframe thead th {\n",
       "        text-align: right;\n",
       "    }\n",
       "</style>\n",
       "<table border=\"1\" class=\"dataframe\">\n",
       "  <thead>\n",
       "    <tr style=\"text-align: right;\">\n",
       "      <th></th>\n",
       "      <th>review_content</th>\n",
       "      <th>label</th>\n",
       "    </tr>\n",
       "  </thead>\n",
       "  <tbody>\n",
       "    <tr>\n",
       "      <th>0</th>\n",
       "      <td>A fantasy adventure that fuses Greek mythology...</td>\n",
       "      <td>1.0</td>\n",
       "    </tr>\n",
       "    <tr>\n",
       "      <th>1</th>\n",
       "      <td>Uma Thurman as Medusa, the gorgon with a coiff...</td>\n",
       "      <td>1.0</td>\n",
       "    </tr>\n",
       "    <tr>\n",
       "      <th>2</th>\n",
       "      <td>With a top-notch cast and dazzling special eff...</td>\n",
       "      <td>1.0</td>\n",
       "    </tr>\n",
       "    <tr>\n",
       "      <th>3</th>\n",
       "      <td>Whether audiences will get behind The Lightnin...</td>\n",
       "      <td>1.0</td>\n",
       "    </tr>\n",
       "    <tr>\n",
       "      <th>4</th>\n",
       "      <td>What's really lacking in The Lightning Thief i...</td>\n",
       "      <td>0.0</td>\n",
       "    </tr>\n",
       "  </tbody>\n",
       "</table>\n",
       "</div>"
      ],
      "text/plain": [
       "                                      review_content  label\n",
       "0  A fantasy adventure that fuses Greek mythology...    1.0\n",
       "1  Uma Thurman as Medusa, the gorgon with a coiff...    1.0\n",
       "2  With a top-notch cast and dazzling special eff...    1.0\n",
       "3  Whether audiences will get behind The Lightnin...    1.0\n",
       "4  What's really lacking in The Lightning Thief i...    0.0"
      ]
     },
     "execution_count": 11,
     "metadata": {},
     "output_type": "execute_result"
    }
   ],
   "source": [
    "df = df.drop('review_type', 1)\n",
    "df.head()"
   ]
  },
  {
   "cell_type": "markdown",
   "metadata": {},
   "source": [
    "# Clean Text"
   ]
  },
  {
   "cell_type": "code",
   "execution_count": 12,
   "metadata": {},
   "outputs": [
    {
     "name": "stderr",
     "output_type": "stream",
     "text": [
      "[nltk_data] Downloading package stopwords to\n",
      "[nltk_data]     /Users/antoneev/nltk_data...\n",
      "[nltk_data]   Package stopwords is already up-to-date!\n"
     ]
    },
    {
     "data": {
      "text/plain": [
       "True"
      ]
     },
     "execution_count": 12,
     "metadata": {},
     "output_type": "execute_result"
    }
   ],
   "source": [
    "import nltk\n",
    "from nltk.corpus import stopwords\n",
    "from nltk.stem.porter import PorterStemmer\n",
    "import re, string, unicodedata\n",
    "from bs4 import BeautifulSoup\n",
    "from string import punctuation\n",
    "\n",
    "nltk.download('stopwords')"
   ]
  },
  {
   "cell_type": "code",
   "execution_count": 13,
   "metadata": {},
   "outputs": [
    {
     "data": {
      "text/plain": [
       "{'a',\n",
       " 'about',\n",
       " 'above',\n",
       " 'after',\n",
       " 'again',\n",
       " 'against',\n",
       " 'ain',\n",
       " 'all',\n",
       " 'am',\n",
       " 'an',\n",
       " 'and',\n",
       " 'any',\n",
       " 'are',\n",
       " 'aren',\n",
       " \"aren't\",\n",
       " 'as',\n",
       " 'at',\n",
       " 'be',\n",
       " 'because',\n",
       " 'been',\n",
       " 'before',\n",
       " 'being',\n",
       " 'below',\n",
       " 'between',\n",
       " 'both',\n",
       " 'but',\n",
       " 'by',\n",
       " 'can',\n",
       " 'couldn',\n",
       " \"couldn't\",\n",
       " 'd',\n",
       " 'did',\n",
       " 'didn',\n",
       " \"didn't\",\n",
       " 'do',\n",
       " 'does',\n",
       " 'doesn',\n",
       " \"doesn't\",\n",
       " 'doing',\n",
       " 'don',\n",
       " \"don't\",\n",
       " 'down',\n",
       " 'during',\n",
       " 'each',\n",
       " 'few',\n",
       " 'for',\n",
       " 'from',\n",
       " 'further',\n",
       " 'had',\n",
       " 'hadn',\n",
       " \"hadn't\",\n",
       " 'has',\n",
       " 'hasn',\n",
       " \"hasn't\",\n",
       " 'have',\n",
       " 'haven',\n",
       " \"haven't\",\n",
       " 'having',\n",
       " 'he',\n",
       " 'her',\n",
       " 'here',\n",
       " 'hers',\n",
       " 'herself',\n",
       " 'him',\n",
       " 'himself',\n",
       " 'his',\n",
       " 'how',\n",
       " 'i',\n",
       " 'if',\n",
       " 'in',\n",
       " 'into',\n",
       " 'is',\n",
       " 'isn',\n",
       " \"isn't\",\n",
       " 'it',\n",
       " \"it's\",\n",
       " 'its',\n",
       " 'itself',\n",
       " 'just',\n",
       " 'll',\n",
       " 'm',\n",
       " 'ma',\n",
       " 'me',\n",
       " 'mightn',\n",
       " \"mightn't\",\n",
       " 'more',\n",
       " 'most',\n",
       " 'mustn',\n",
       " \"mustn't\",\n",
       " 'my',\n",
       " 'myself',\n",
       " 'needn',\n",
       " \"needn't\",\n",
       " 'no',\n",
       " 'nor',\n",
       " 'not',\n",
       " 'now',\n",
       " 'o',\n",
       " 'of',\n",
       " 'off',\n",
       " 'on',\n",
       " 'once',\n",
       " 'only',\n",
       " 'or',\n",
       " 'other',\n",
       " 'our',\n",
       " 'ours',\n",
       " 'ourselves',\n",
       " 'out',\n",
       " 'over',\n",
       " 'own',\n",
       " 're',\n",
       " 's',\n",
       " 'same',\n",
       " 'shan',\n",
       " \"shan't\",\n",
       " 'she',\n",
       " \"she's\",\n",
       " 'should',\n",
       " \"should've\",\n",
       " 'shouldn',\n",
       " \"shouldn't\",\n",
       " 'so',\n",
       " 'some',\n",
       " 'such',\n",
       " 't',\n",
       " 'than',\n",
       " 'that',\n",
       " \"that'll\",\n",
       " 'the',\n",
       " 'their',\n",
       " 'theirs',\n",
       " 'them',\n",
       " 'themselves',\n",
       " 'then',\n",
       " 'there',\n",
       " 'these',\n",
       " 'they',\n",
       " 'this',\n",
       " 'those',\n",
       " 'through',\n",
       " 'to',\n",
       " 'too',\n",
       " 'under',\n",
       " 'until',\n",
       " 'up',\n",
       " 've',\n",
       " 'very',\n",
       " 'was',\n",
       " 'wasn',\n",
       " \"wasn't\",\n",
       " 'we',\n",
       " 'were',\n",
       " 'weren',\n",
       " \"weren't\",\n",
       " 'what',\n",
       " 'when',\n",
       " 'where',\n",
       " 'which',\n",
       " 'while',\n",
       " 'who',\n",
       " 'whom',\n",
       " 'why',\n",
       " 'will',\n",
       " 'with',\n",
       " 'won',\n",
       " \"won't\",\n",
       " 'wouldn',\n",
       " \"wouldn't\",\n",
       " 'y',\n",
       " 'you',\n",
       " \"you'd\",\n",
       " \"you'll\",\n",
       " \"you're\",\n",
       " \"you've\",\n",
       " 'your',\n",
       " 'yours',\n",
       " 'yourself',\n",
       " 'yourselves'}"
      ]
     },
     "execution_count": 13,
     "metadata": {},
     "output_type": "execute_result"
    }
   ],
   "source": [
    "# List of default stopwords\n",
    "stop = set(stopwords.words('english'))\n",
    "stop"
   ]
  },
  {
   "cell_type": "code",
   "execution_count": 14,
   "metadata": {},
   "outputs": [
    {
     "data": {
      "text/plain": [
       "['!',\n",
       " '\"',\n",
       " '#',\n",
       " '$',\n",
       " '%',\n",
       " '&',\n",
       " \"'\",\n",
       " '(',\n",
       " ')',\n",
       " '*',\n",
       " '+',\n",
       " ',',\n",
       " '-',\n",
       " '.',\n",
       " '/',\n",
       " ':',\n",
       " ';',\n",
       " '<',\n",
       " '=',\n",
       " '>',\n",
       " '?',\n",
       " '@',\n",
       " '[',\n",
       " '\\\\',\n",
       " ']',\n",
       " '^',\n",
       " '_',\n",
       " '`',\n",
       " '{',\n",
       " '|',\n",
       " '}',\n",
       " '~']"
      ]
     },
     "execution_count": 14,
     "metadata": {},
     "output_type": "execute_result"
    }
   ],
   "source": [
    "# List of default punctuations\n",
    "punctuation = list(string.punctuation)\n",
    "punctuation"
   ]
  },
  {
   "cell_type": "code",
   "execution_count": 15,
   "metadata": {},
   "outputs": [],
   "source": [
    "stop.update(punctuation)"
   ]
  },
  {
   "cell_type": "code",
   "execution_count": 16,
   "metadata": {},
   "outputs": [],
   "source": [
    "# Strip HTML\n",
    "def strip_html(text):\n",
    "    soup = BeautifulSoup(text, \"html.parser\")\n",
    "    return soup.get_text()\n",
    "\n",
    "#Removing Punctuations appended to strings\n",
    "def remove_punctuation_attached_to_strings(text):\n",
    "    return re.sub(r'[^\\w\\s]', '', text)\n",
    "\n",
    "# Removing URLs\n",
    "def remove_url(text):\n",
    "    return re.sub(r'http\\S+', '', text)\n",
    "\n",
    "#Removing the stopwords and punctuation from text\n",
    "def remove_stopwords(text):\n",
    "    final_text = []\n",
    "    for i in text.split():\n",
    "        if i.strip().lower() not in stop:\n",
    "            final_text.append(i.strip())\n",
    "    return \" \".join(final_text)\n",
    "\n",
    "#Removing the noisy text\n",
    "def denoise_text(text):\n",
    "    text = strip_html(text)\n",
    "    text = remove_punctuation_attached_to_strings(text)\n",
    "    text = remove_url(text)\n",
    "    text = remove_stopwords(text)\n",
    "    return text"
   ]
  },
  {
   "cell_type": "code",
   "execution_count": 17,
   "metadata": {},
   "outputs": [
    {
     "data": {
      "text/html": [
       "<div>\n",
       "<style scoped>\n",
       "    .dataframe tbody tr th:only-of-type {\n",
       "        vertical-align: middle;\n",
       "    }\n",
       "\n",
       "    .dataframe tbody tr th {\n",
       "        vertical-align: top;\n",
       "    }\n",
       "\n",
       "    .dataframe thead th {\n",
       "        text-align: right;\n",
       "    }\n",
       "</style>\n",
       "<table border=\"1\" class=\"dataframe\">\n",
       "  <thead>\n",
       "    <tr style=\"text-align: right;\">\n",
       "      <th></th>\n",
       "      <th>review_content</th>\n",
       "      <th>label</th>\n",
       "    </tr>\n",
       "  </thead>\n",
       "  <tbody>\n",
       "    <tr>\n",
       "      <th>0</th>\n",
       "      <td>A fantasy adventure that fuses Greek mythology...</td>\n",
       "      <td>1.0</td>\n",
       "    </tr>\n",
       "    <tr>\n",
       "      <th>1</th>\n",
       "      <td>Uma Thurman as Medusa, the gorgon with a coiff...</td>\n",
       "      <td>1.0</td>\n",
       "    </tr>\n",
       "    <tr>\n",
       "      <th>2</th>\n",
       "      <td>With a top-notch cast and dazzling special eff...</td>\n",
       "      <td>1.0</td>\n",
       "    </tr>\n",
       "    <tr>\n",
       "      <th>3</th>\n",
       "      <td>Whether audiences will get behind The Lightnin...</td>\n",
       "      <td>1.0</td>\n",
       "    </tr>\n",
       "    <tr>\n",
       "      <th>4</th>\n",
       "      <td>What's really lacking in The Lightning Thief i...</td>\n",
       "      <td>0.0</td>\n",
       "    </tr>\n",
       "    <tr>\n",
       "      <th>...</th>\n",
       "      <td>...</td>\n",
       "      <td>...</td>\n",
       "    </tr>\n",
       "    <tr>\n",
       "      <th>1130008</th>\n",
       "      <td>A rousing reconstruction of the 1879 Battle of...</td>\n",
       "      <td>1.0</td>\n",
       "    </tr>\n",
       "    <tr>\n",
       "      <th>1130013</th>\n",
       "      <td>Seen today, it's not only a startling indictme...</td>\n",
       "      <td>1.0</td>\n",
       "    </tr>\n",
       "    <tr>\n",
       "      <th>1130014</th>\n",
       "      <td>A rousing visual spectacle that's a prequel of...</td>\n",
       "      <td>1.0</td>\n",
       "    </tr>\n",
       "    <tr>\n",
       "      <th>1130015</th>\n",
       "      <td>A simple two-act story: Prelude to war, and th...</td>\n",
       "      <td>0.0</td>\n",
       "    </tr>\n",
       "    <tr>\n",
       "      <th>1130016</th>\n",
       "      <td>Rides the line between being a pure artifact o...</td>\n",
       "      <td>0.0</td>\n",
       "    </tr>\n",
       "  </tbody>\n",
       "</table>\n",
       "<p>1064211 rows × 2 columns</p>\n",
       "</div>"
      ],
      "text/plain": [
       "                                            review_content  label\n",
       "0        A fantasy adventure that fuses Greek mythology...    1.0\n",
       "1        Uma Thurman as Medusa, the gorgon with a coiff...    1.0\n",
       "2        With a top-notch cast and dazzling special eff...    1.0\n",
       "3        Whether audiences will get behind The Lightnin...    1.0\n",
       "4        What's really lacking in The Lightning Thief i...    0.0\n",
       "...                                                    ...    ...\n",
       "1130008  A rousing reconstruction of the 1879 Battle of...    1.0\n",
       "1130013  Seen today, it's not only a startling indictme...    1.0\n",
       "1130014  A rousing visual spectacle that's a prequel of...    1.0\n",
       "1130015  A simple two-act story: Prelude to war, and th...    0.0\n",
       "1130016  Rides the line between being a pure artifact o...    0.0\n",
       "\n",
       "[1064211 rows x 2 columns]"
      ]
     },
     "execution_count": 17,
     "metadata": {},
     "output_type": "execute_result"
    }
   ],
   "source": [
    "df"
   ]
  },
  {
   "cell_type": "code",
   "execution_count": 18,
   "metadata": {},
   "outputs": [
    {
     "data": {
      "text/plain": [
       "'A fantasy adventure that fuses Greek mythology to contemporary American places and values. Anyone around 15 (give or take a couple of years) will thrill to the visual spectacle'"
      ]
     },
     "execution_count": 18,
     "metadata": {},
     "output_type": "execute_result"
    }
   ],
   "source": [
    "df.loc[0,'review_content']"
   ]
  },
  {
   "cell_type": "code",
   "execution_count": 19,
   "metadata": {},
   "outputs": [],
   "source": [
    "# Apply function on text column\n",
    "df['review_content'] = df['review_content'].str.lower()\n",
    "df['review_content_clean'] = df['review_content'].apply(denoise_text)"
   ]
  },
  {
   "cell_type": "code",
   "execution_count": 20,
   "metadata": {},
   "outputs": [
    {
     "data": {
      "text/html": [
       "<div>\n",
       "<style scoped>\n",
       "    .dataframe tbody tr th:only-of-type {\n",
       "        vertical-align: middle;\n",
       "    }\n",
       "\n",
       "    .dataframe tbody tr th {\n",
       "        vertical-align: top;\n",
       "    }\n",
       "\n",
       "    .dataframe thead th {\n",
       "        text-align: right;\n",
       "    }\n",
       "</style>\n",
       "<table border=\"1\" class=\"dataframe\">\n",
       "  <thead>\n",
       "    <tr style=\"text-align: right;\">\n",
       "      <th></th>\n",
       "      <th>review_content</th>\n",
       "      <th>label</th>\n",
       "      <th>review_content_clean</th>\n",
       "    </tr>\n",
       "  </thead>\n",
       "  <tbody>\n",
       "    <tr>\n",
       "      <th>0</th>\n",
       "      <td>a fantasy adventure that fuses greek mythology...</td>\n",
       "      <td>1.0</td>\n",
       "      <td>fantasy adventure fuses greek mythology contem...</td>\n",
       "    </tr>\n",
       "    <tr>\n",
       "      <th>1</th>\n",
       "      <td>uma thurman as medusa, the gorgon with a coiff...</td>\n",
       "      <td>1.0</td>\n",
       "      <td>uma thurman medusa gorgon coiffure writhing sn...</td>\n",
       "    </tr>\n",
       "    <tr>\n",
       "      <th>2</th>\n",
       "      <td>with a top-notch cast and dazzling special eff...</td>\n",
       "      <td>1.0</td>\n",
       "      <td>topnotch cast dazzling special effects tide te...</td>\n",
       "    </tr>\n",
       "    <tr>\n",
       "      <th>3</th>\n",
       "      <td>whether audiences will get behind the lightnin...</td>\n",
       "      <td>1.0</td>\n",
       "      <td>whether audiences get behind lightning thief h...</td>\n",
       "    </tr>\n",
       "    <tr>\n",
       "      <th>4</th>\n",
       "      <td>what's really lacking in the lightning thief i...</td>\n",
       "      <td>0.0</td>\n",
       "      <td>whats really lacking lightning thief genuine s...</td>\n",
       "    </tr>\n",
       "    <tr>\n",
       "      <th>...</th>\n",
       "      <td>...</td>\n",
       "      <td>...</td>\n",
       "      <td>...</td>\n",
       "    </tr>\n",
       "    <tr>\n",
       "      <th>1130008</th>\n",
       "      <td>a rousing reconstruction of the 1879 battle of...</td>\n",
       "      <td>1.0</td>\n",
       "      <td>rousing reconstruction 1879 battle rorkes drift</td>\n",
       "    </tr>\n",
       "    <tr>\n",
       "      <th>1130013</th>\n",
       "      <td>seen today, it's not only a startling indictme...</td>\n",
       "      <td>1.0</td>\n",
       "      <td>seen today startling indictment british imperi...</td>\n",
       "    </tr>\n",
       "    <tr>\n",
       "      <th>1130014</th>\n",
       "      <td>a rousing visual spectacle that's a prequel of...</td>\n",
       "      <td>1.0</td>\n",
       "      <td>rousing visual spectacle thats prequel cy endf...</td>\n",
       "    </tr>\n",
       "    <tr>\n",
       "      <th>1130015</th>\n",
       "      <td>a simple two-act story: prelude to war, and th...</td>\n",
       "      <td>0.0</td>\n",
       "      <td>simple twoact story prelude war war former con...</td>\n",
       "    </tr>\n",
       "    <tr>\n",
       "      <th>1130016</th>\n",
       "      <td>rides the line between being a pure artifact o...</td>\n",
       "      <td>0.0</td>\n",
       "      <td>rides line pure artifact bygone eraone depicts...</td>\n",
       "    </tr>\n",
       "  </tbody>\n",
       "</table>\n",
       "<p>1064211 rows × 3 columns</p>\n",
       "</div>"
      ],
      "text/plain": [
       "                                            review_content  label  \\\n",
       "0        a fantasy adventure that fuses greek mythology...    1.0   \n",
       "1        uma thurman as medusa, the gorgon with a coiff...    1.0   \n",
       "2        with a top-notch cast and dazzling special eff...    1.0   \n",
       "3        whether audiences will get behind the lightnin...    1.0   \n",
       "4        what's really lacking in the lightning thief i...    0.0   \n",
       "...                                                    ...    ...   \n",
       "1130008  a rousing reconstruction of the 1879 battle of...    1.0   \n",
       "1130013  seen today, it's not only a startling indictme...    1.0   \n",
       "1130014  a rousing visual spectacle that's a prequel of...    1.0   \n",
       "1130015  a simple two-act story: prelude to war, and th...    0.0   \n",
       "1130016  rides the line between being a pure artifact o...    0.0   \n",
       "\n",
       "                                      review_content_clean  \n",
       "0        fantasy adventure fuses greek mythology contem...  \n",
       "1        uma thurman medusa gorgon coiffure writhing sn...  \n",
       "2        topnotch cast dazzling special effects tide te...  \n",
       "3        whether audiences get behind lightning thief h...  \n",
       "4        whats really lacking lightning thief genuine s...  \n",
       "...                                                    ...  \n",
       "1130008    rousing reconstruction 1879 battle rorkes drift  \n",
       "1130013  seen today startling indictment british imperi...  \n",
       "1130014  rousing visual spectacle thats prequel cy endf...  \n",
       "1130015  simple twoact story prelude war war former con...  \n",
       "1130016  rides line pure artifact bygone eraone depicts...  \n",
       "\n",
       "[1064211 rows x 3 columns]"
      ]
     },
     "execution_count": 20,
     "metadata": {},
     "output_type": "execute_result"
    }
   ],
   "source": [
    "df"
   ]
  },
  {
   "cell_type": "code",
   "execution_count": 21,
   "metadata": {},
   "outputs": [
    {
     "data": {
      "text/plain": [
       "'fantasy adventure fuses greek mythology contemporary american places values anyone around 15 give take couple years thrill visual spectacle'"
      ]
     },
     "execution_count": 21,
     "metadata": {},
     "output_type": "execute_result"
    }
   ],
   "source": [
    "df.loc[0,'review_content_clean']"
   ]
  },
  {
   "cell_type": "markdown",
   "metadata": {},
   "source": [
    "# Most Common Words "
   ]
  },
  {
   "cell_type": "code",
   "execution_count": 22,
   "metadata": {},
   "outputs": [],
   "source": [
    "from collections import Counter"
   ]
  },
  {
   "cell_type": "code",
   "execution_count": 23,
   "metadata": {},
   "outputs": [],
   "source": [
    "def get_corpus(text):\n",
    "    words = []\n",
    "    for i in text:\n",
    "        for j in i.split():\n",
    "            words.append(j.strip())\n",
    "    return words"
   ]
  },
  {
   "cell_type": "code",
   "execution_count": 24,
   "metadata": {},
   "outputs": [
    {
     "data": {
      "text/plain": [
       "{'film': 159620,\n",
       " 'movie': 120069,\n",
       " 'one': 85247,\n",
       " 'like': 71845,\n",
       " 'story': 57313,\n",
       " 'much': 44737,\n",
       " 'good': 43463,\n",
       " 'even': 43387,\n",
       " 'films': 36884,\n",
       " 'time': 35755}"
      ]
     },
     "execution_count": 24,
     "metadata": {},
     "output_type": "execute_result"
    }
   ],
   "source": [
    "corpus = get_corpus(df.review_content_clean)\n",
    "counter = Counter(corpus)\n",
    "most_common = counter.most_common(10)\n",
    "most_common = dict(most_common)\n",
    "most_common"
   ]
  },
  {
   "cell_type": "markdown",
   "metadata": {},
   "source": [
    "# N-Gram"
   ]
  },
  {
   "cell_type": "code",
   "execution_count": 25,
   "metadata": {},
   "outputs": [],
   "source": [
    "import matplotlib.pyplot as plt"
   ]
  },
  {
   "cell_type": "code",
   "execution_count": 26,
   "metadata": {},
   "outputs": [],
   "source": [
    "from sklearn.feature_extraction.text import CountVectorizer\n",
    "def get_top_text_ngrams(corpus, n, g):\n",
    "    vec = CountVectorizer(ngram_range=(g, g)).fit(corpus)\n",
    "    bag_of_words = vec.transform(corpus)\n",
    "    sum_words = bag_of_words.sum(axis=0) \n",
    "    words_freq = [(word, sum_words[0, idx]) for word, idx in vec.vocabulary_.items()]\n",
    "    words_freq =sorted(words_freq, key = lambda x: x[1], reverse=True)\n",
    "    return words_freq[:n]"
   ]
  },
  {
   "cell_type": "code",
   "execution_count": 27,
   "metadata": {},
   "outputs": [
    {
     "data": {
      "text/plain": [
       "<AxesSubplot:>"
      ]
     },
     "execution_count": 27,
     "metadata": {},
     "output_type": "execute_result"
    },
    {
     "data": {
      "image/png": "[encoded data removed]",
      "text/plain": [
       "<Figure size 1152x648 with 1 Axes>"
      ]
     },
     "metadata": {},
     "output_type": "display_data"
    }
   ],
   "source": [
    "plt.figure(figsize = (16,9))\n",
    "most_common_uni = get_top_text_ngrams(df.review_content_clean,10,1)\n",
    "most_common_uni = dict(most_common_uni)\n",
    "sns.barplot(x = list(most_common_uni.values()),y = list(most_common_uni.keys()))"
   ]
  },
  {
   "cell_type": "code",
   "execution_count": 28,
   "metadata": {},
   "outputs": [
    {
     "data": {
      "text/plain": [
       "<AxesSubplot:>"
      ]
     },
     "execution_count": 28,
     "metadata": {},
     "output_type": "execute_result"
    },
    {
     "data": {
      "image/png": "[encoded data removed]",
      "text/plain": [
       "<Figure size 1152x648 with 1 Axes>"
      ]
     },
     "metadata": {},
     "output_type": "display_data"
    }
   ],
   "source": [
    "plt.figure(figsize = (16,9))\n",
    "most_common_uni = get_top_text_ngrams(df.review_content_clean,10,2)\n",
    "most_common_uni = dict(most_common_uni)\n",
    "sns.barplot(x = list(most_common_uni.values()),y = list(most_common_uni.keys()))"
   ]
  },
  {
   "cell_type": "code",
   "execution_count": 29,
   "metadata": {},
   "outputs": [
    {
     "data": {
      "text/plain": [
       "<AxesSubplot:>"
      ]
     },
     "execution_count": 29,
     "metadata": {},
     "output_type": "execute_result"
    },
    {
     "data": {
      "image/png": "[encoded data removed]",
      "text/plain": [
       "<Figure size 1152x648 with 1 Axes>"
      ]
     },
     "metadata": {},
     "output_type": "display_data"
    }
   ],
   "source": [
    "plt.figure(figsize = (16,9))\n",
    "most_common_uni = get_top_text_ngrams(df.review_content_clean,10,3)\n",
    "most_common_uni = dict(most_common_uni)\n",
    "sns.barplot(x = list(most_common_uni.values()),y = list(most_common_uni.keys()))"
   ]
  },
  {
   "cell_type": "markdown",
   "metadata": {},
   "source": [
    "# Word Cloud"
   ]
  },
  {
   "cell_type": "code",
   "execution_count": 30,
   "metadata": {},
   "outputs": [
    {
     "name": "stdout",
     "output_type": "stream",
     "text": [
      "Requirement already satisfied: wordcloud in /Users/antoneev/opt/anaconda3/lib/python3.7/site-packages (1.8.1)\n",
      "Requirement already satisfied: matplotlib in /Users/antoneev/opt/anaconda3/lib/python3.7/site-packages (from wordcloud) (3.4.2)\n",
      "Requirement already satisfied: numpy>=1.6.1 in /Users/antoneev/opt/anaconda3/lib/python3.7/site-packages (from wordcloud) (1.18.1)\n",
      "Requirement already satisfied: pillow in /Users/antoneev/opt/anaconda3/lib/python3.7/site-packages (from wordcloud) (8.2.0)\n",
      "Requirement already satisfied: python-dateutil>=2.7 in /Users/antoneev/opt/anaconda3/lib/python3.7/site-packages (from matplotlib->wordcloud) (2.8.1)\n",
      "Requirement already satisfied: pyparsing>=2.2.1 in /Users/antoneev/opt/anaconda3/lib/python3.7/site-packages (from matplotlib->wordcloud) (2.4.6)\n",
      "Requirement already satisfied: kiwisolver>=1.0.1 in /Users/antoneev/opt/anaconda3/lib/python3.7/site-packages (from matplotlib->wordcloud) (1.1.0)\n",
      "Requirement already satisfied: cycler>=0.10 in /Users/antoneev/opt/anaconda3/lib/python3.7/site-packages (from matplotlib->wordcloud) (0.10.0)\n",
      "Requirement already satisfied: six in /Users/antoneev/opt/anaconda3/lib/python3.7/site-packages (from cycler>=0.10->matplotlib->wordcloud) (1.14.0)\n",
      "Requirement already satisfied: setuptools in /Users/antoneev/opt/anaconda3/lib/python3.7/site-packages (from kiwisolver>=1.0.1->matplotlib->wordcloud) (53.0.0)\n",
      "\u001b[33mWARNING: You are using pip version 21.1.2; however, version 21.3.1 is available.\n",
      "You should consider upgrading via the '/Users/antoneev/opt/anaconda3/bin/python -m pip install --upgrade pip' command.\u001b[0m\n"
     ]
    }
   ],
   "source": [
    "!pip install wordcloud"
   ]
  },
  {
   "cell_type": "code",
   "execution_count": 31,
   "metadata": {},
   "outputs": [],
   "source": [
    "from wordcloud import WordCloud, STOPWORDS, ImageColorGenerator"
   ]
  },
  {
   "cell_type": "code",
   "execution_count": 32,
   "metadata": {},
   "outputs": [
    {
     "data": {
      "image/png": "[encoded data removed]",
      "text/plain": [
       "<Figure size 432x288 with 1 Axes>"
      ]
     },
     "metadata": {},
     "output_type": "display_data"
    }
   ],
   "source": [
    "# Start with one review:\n",
    "text = df.review_content_clean[0]\n",
    "\n",
    "# Create and generate a word cloud image:\n",
    "wordcloud = WordCloud().generate(text)\n",
    "\n",
    "# Display the generated image:\n",
    "plt.imshow(wordcloud, interpolation='bilinear')\n",
    "plt.axis(\"off\")\n",
    "plt.show()"
   ]
  },
  {
   "cell_type": "markdown",
   "metadata": {},
   "source": [
    "# Split Dataset"
   ]
  },
  {
   "cell_type": "code",
   "execution_count": 33,
   "metadata": {},
   "outputs": [
    {
     "data": {
      "text/html": [
       "<div>\n",
       "<style scoped>\n",
       "    .dataframe tbody tr th:only-of-type {\n",
       "        vertical-align: middle;\n",
       "    }\n",
       "\n",
       "    .dataframe tbody tr th {\n",
       "        vertical-align: top;\n",
       "    }\n",
       "\n",
       "    .dataframe thead th {\n",
       "        text-align: right;\n",
       "    }\n",
       "</style>\n",
       "<table border=\"1\" class=\"dataframe\">\n",
       "  <thead>\n",
       "    <tr style=\"text-align: right;\">\n",
       "      <th></th>\n",
       "      <th>label</th>\n",
       "      <th>review_content_clean</th>\n",
       "    </tr>\n",
       "  </thead>\n",
       "  <tbody>\n",
       "    <tr>\n",
       "      <th>0</th>\n",
       "      <td>1.0</td>\n",
       "      <td>fantasy adventure fuses greek mythology contem...</td>\n",
       "    </tr>\n",
       "    <tr>\n",
       "      <th>1</th>\n",
       "      <td>1.0</td>\n",
       "      <td>uma thurman medusa gorgon coiffure writhing sn...</td>\n",
       "    </tr>\n",
       "    <tr>\n",
       "      <th>2</th>\n",
       "      <td>1.0</td>\n",
       "      <td>topnotch cast dazzling special effects tide te...</td>\n",
       "    </tr>\n",
       "    <tr>\n",
       "      <th>3</th>\n",
       "      <td>1.0</td>\n",
       "      <td>whether audiences get behind lightning thief h...</td>\n",
       "    </tr>\n",
       "    <tr>\n",
       "      <th>4</th>\n",
       "      <td>0.0</td>\n",
       "      <td>whats really lacking lightning thief genuine s...</td>\n",
       "    </tr>\n",
       "  </tbody>\n",
       "</table>\n",
       "</div>"
      ],
      "text/plain": [
       "   label                               review_content_clean\n",
       "0    1.0  fantasy adventure fuses greek mythology contem...\n",
       "1    1.0  uma thurman medusa gorgon coiffure writhing sn...\n",
       "2    1.0  topnotch cast dazzling special effects tide te...\n",
       "3    1.0  whether audiences get behind lightning thief h...\n",
       "4    0.0  whats really lacking lightning thief genuine s..."
      ]
     },
     "execution_count": 33,
     "metadata": {},
     "output_type": "execute_result"
    }
   ],
   "source": [
    "df = df.drop('review_content', 1)\n",
    "df.head()"
   ]
  },
  {
   "cell_type": "code",
   "execution_count": 34,
   "metadata": {},
   "outputs": [],
   "source": [
    "from sklearn.model_selection import train_test_split"
   ]
  },
  {
   "cell_type": "code",
   "execution_count": 35,
   "metadata": {},
   "outputs": [],
   "source": [
    "x_train, x_test, y_train, y_test = train_test_split(df.review_content_clean, df.label, test_size=0.30)"
   ]
  },
  {
   "cell_type": "code",
   "execution_count": 36,
   "metadata": {},
   "outputs": [
    {
     "name": "stdout",
     "output_type": "stream",
     "text": [
      "Train Content 744947\n",
      "Train Labels 744947\n",
      "Test Content 319264\n",
      "Test Labels 319264\n"
     ]
    }
   ],
   "source": [
    "print('Train Content', x_train.count())\n",
    "print('Train Labels', y_train.count())\n",
    "print('Test Content', x_test.count())\n",
    "print('Test Labels', y_test.count())"
   ]
  },
  {
   "cell_type": "markdown",
   "metadata": {},
   "source": [
    "# Scaling Down Data Size"
   ]
  },
  {
   "cell_type": "code",
   "execution_count": 37,
   "metadata": {},
   "outputs": [],
   "source": [
    "x_train_DownSize = x_train[0:7000]\n",
    "x_test_DownSize = x_test[0:3000]\n",
    "y_train_DownSize = y_train[0:7000]\n",
    "y_test_DownSize = y_test[0:3000]"
   ]
  },
  {
   "cell_type": "code",
   "execution_count": 38,
   "metadata": {},
   "outputs": [
    {
     "name": "stdout",
     "output_type": "stream",
     "text": [
      "Train Content Downsize: 7000\n",
      "Train Labels Downsize: 7000\n",
      "Test Content Downsize: 3000\n",
      "Test Labels Downsize: 3000\n"
     ]
    }
   ],
   "source": [
    "print('Train Content Downsize:', len(x_train_DownSize))\n",
    "print('Train Labels Downsize:', len(y_train_DownSize))\n",
    "print('Test Content Downsize:', len(x_test_DownSize))\n",
    "print('Test Labels Downsize:', len(y_test_DownSize))"
   ]
  },
  {
   "cell_type": "markdown",
   "metadata": {},
   "source": [
    "# Tokenization"
   ]
  },
  {
   "cell_type": "code",
   "execution_count": 39,
   "metadata": {},
   "outputs": [],
   "source": [
    "from tensorflow.keras.preprocessing.text import Tokenizer\n",
    "from keras.preprocessing import text, sequence"
   ]
  },
  {
   "cell_type": "code",
   "execution_count": 40,
   "metadata": {},
   "outputs": [],
   "source": [
    "maxvocab = 1500\n",
    "maxlen = 300"
   ]
  },
  {
   "cell_type": "code",
   "execution_count": 41,
   "metadata": {},
   "outputs": [],
   "source": [
    "tokenizer = text.Tokenizer(num_words=maxvocab)\n",
    "tokenizer.fit_on_texts(x_train_DownSize)\n",
    "tokenized_train = tokenizer.texts_to_sequences(x_train_DownSize)\n",
    "x_train_DownSize = sequence.pad_sequences(tokenized_train, maxlen=maxlen)\n",
    "tokenized_test = tokenizer.texts_to_sequences(x_test_DownSize)\n",
    "x_test_DownSize = sequence.pad_sequences(tokenized_test, maxlen=maxlen)"
   ]
  },
  {
   "cell_type": "markdown",
   "metadata": {},
   "source": [
    "# Load Glove Text File"
   ]
  },
  {
   "cell_type": "code",
   "execution_count": 42,
   "metadata": {},
   "outputs": [],
   "source": [
    "import numpy as np"
   ]
  },
  {
   "cell_type": "code",
   "execution_count": 43,
   "metadata": {},
   "outputs": [],
   "source": [
    "EMBEDDING_FILE = 'rotten_tomatoes-datasets/glove.twitter.27B.100d.txt'"
   ]
  },
  {
   "cell_type": "code",
   "execution_count": 44,
   "metadata": {},
   "outputs": [],
   "source": [
    "def get_coefs(word, *arr): \n",
    "    return word, np.asarray(arr, dtype='float32')\n",
    "embeddings_index = dict(get_coefs(*o.rstrip().rsplit(' ')) for o in open(EMBEDDING_FILE))"
   ]
  },
  {
   "cell_type": "code",
   "execution_count": 45,
   "metadata": {},
   "outputs": [],
   "source": [
    "all_embs = np.stack(embeddings_index.values())\n",
    "emb_mean,emb_std = all_embs.mean(), all_embs.std()\n",
    "embed_size = all_embs.shape[1]\n",
    "\n",
    "word_index = tokenizer.word_index\n",
    "nb_words = min(maxvocab, len(word_index))\n",
    "#change below line if computing normal stats is too slow\n",
    "embedding_matrix = embedding_matrix = np.random.normal(emb_mean, emb_std, (nb_words, embed_size))\n",
    "for word, i in word_index.items():\n",
    "    if i >= maxvocab: continue\n",
    "    embedding_vector = embeddings_index.get(word)\n",
    "    if embedding_vector is not None: embedding_matrix[i] = embedding_vector"
   ]
  },
  {
   "cell_type": "markdown",
   "metadata": {},
   "source": [
    "# Train LSTM Model"
   ]
  },
  {
   "cell_type": "code",
   "execution_count": 46,
   "metadata": {},
   "outputs": [],
   "source": [
    "from keras.layers import Dense,Embedding,LSTM,Dropout\n",
    "from keras.callbacks import ReduceLROnPlateau\n",
    "from keras.models import Sequential\n",
    "from tensorflow import keras\n",
    "import tensorflow as tf"
   ]
  },
  {
   "cell_type": "code",
   "execution_count": 47,
   "metadata": {},
   "outputs": [],
   "source": [
    "model = Sequential()\n",
    "model.add(Embedding(maxvocab, output_dim=embed_size, weights=[embedding_matrix], input_length=maxlen, trainable=False))\n",
    "model.add(LSTM(units=128 , return_sequences = True , recurrent_dropout = 0.25 , dropout = 0.25))\n",
    "model.add(LSTM(units=64 , recurrent_dropout = 0.1 , dropout = 0.1))\n",
    "model.add(Dense(units = 32 , activation = 'relu'))\n",
    "model.add(Dense(1, activation='sigmoid'))"
   ]
  },
  {
   "cell_type": "code",
   "execution_count": 48,
   "metadata": {},
   "outputs": [],
   "source": [
    "batch_size = 256\n",
    "epochs = 100\n",
    "embed_size = 100\n",
    "\n",
    "#create a learning_rate schedule\n",
    "lr_schedule = keras.optimizers.schedules.ExponentialDecay(\n",
    "  initial_learning_rate=1e-4,\n",
    "  decay_steps=1000,\n",
    "  decay_rate=0.9)\n",
    "\n",
    "#configuring and compiling the model\n",
    "opt = tf.keras.optimizers.Adam(learning_rate=lr_schedule)\n",
    "model.compile(loss='binary_crossentropy', metrics=['accuracy'], optimizer=opt)\n",
    "\n",
    "callback = tf.keras.callbacks.EarlyStopping(monitor='val_accuracy', patience=20, min_delta=1e-3, restore_best_weights=True)"
   ]
  },
  {
   "cell_type": "code",
   "execution_count": 49,
   "metadata": {},
   "outputs": [
    {
     "name": "stdout",
     "output_type": "stream",
     "text": [
      "Model: \"sequential\"\n",
      "_________________________________________________________________\n",
      " Layer (type)                Output Shape              Param #   \n",
      "=================================================================\n",
      " embedding (Embedding)       (None, 300, 100)          150000    \n",
      "                                                                 \n",
      " lstm (LSTM)                 (None, 300, 128)          117248    \n",
      "                                                                 \n",
      " lstm_1 (LSTM)               (None, 64)                49408     \n",
      "                                                                 \n",
      " dense (Dense)               (None, 32)                2080      \n",
      "                                                                 \n",
      " dense_1 (Dense)             (None, 1)                 33        \n",
      "                                                                 \n",
      "=================================================================\n",
      "Total params: 318,769\n",
      "Trainable params: 168,769\n",
      "Non-trainable params: 150,000\n",
      "_________________________________________________________________\n"
     ]
    }
   ],
   "source": [
    "model.summary()"
   ]
  },
  {
   "cell_type": "code",
   "execution_count": 50,
   "metadata": {},
   "outputs": [
    {
     "name": "stdout",
     "output_type": "stream",
     "text": [
      "Epoch 1/100\n",
      "28/28 [==============================] - 77s 3s/step - loss: 0.6658 - accuracy: 0.6234 - val_loss: 0.6461 - val_accuracy: 0.6507\n",
      "Epoch 2/100\n",
      "28/28 [==============================] - 71s 3s/step - loss: 0.6526 - accuracy: 0.6374 - val_loss: 0.6402 - val_accuracy: 0.6507\n",
      "Epoch 3/100\n",
      "28/28 [==============================] - 73s 3s/step - loss: 0.6464 - accuracy: 0.6374 - val_loss: 0.6339 - val_accuracy: 0.6507\n",
      "Epoch 4/100\n",
      "28/28 [==============================] - 70s 3s/step - loss: 0.6407 - accuracy: 0.6373 - val_loss: 0.6265 - val_accuracy: 0.6507\n",
      "Epoch 5/100\n",
      "28/28 [==============================] - 74s 3s/step - loss: 0.6329 - accuracy: 0.6379 - val_loss: 0.6197 - val_accuracy: 0.6520\n",
      "Epoch 6/100\n",
      "28/28 [==============================] - 76s 3s/step - loss: 0.6254 - accuracy: 0.6416 - val_loss: 0.6107 - val_accuracy: 0.6547\n",
      "Epoch 7/100\n",
      "28/28 [==============================] - 72s 3s/step - loss: 0.6176 - accuracy: 0.6471 - val_loss: 0.6059 - val_accuracy: 0.6767\n",
      "Epoch 8/100\n",
      "28/28 [==============================] - 77s 3s/step - loss: 0.6104 - accuracy: 0.6577 - val_loss: 0.5968 - val_accuracy: 0.6630\n",
      "Epoch 9/100\n",
      "28/28 [==============================] - 74s 3s/step - loss: 0.6077 - accuracy: 0.6650 - val_loss: 0.5995 - val_accuracy: 0.6900\n",
      "Epoch 10/100\n",
      "28/28 [==============================] - 75s 3s/step - loss: 0.6050 - accuracy: 0.6639 - val_loss: 0.5913 - val_accuracy: 0.6637\n",
      "Epoch 11/100\n",
      "28/28 [==============================] - 74s 3s/step - loss: 0.5997 - accuracy: 0.6649 - val_loss: 0.5884 - val_accuracy: 0.6647\n",
      "Epoch 12/100\n",
      "28/28 [==============================] - 75s 3s/step - loss: 0.5992 - accuracy: 0.6703 - val_loss: 0.5817 - val_accuracy: 0.6917\n",
      "Epoch 13/100\n",
      "28/28 [==============================] - 73s 3s/step - loss: 0.5942 - accuracy: 0.6726 - val_loss: 0.5772 - val_accuracy: 0.7050\n",
      "Epoch 14/100\n",
      "28/28 [==============================] - 73s 3s/step - loss: 0.5903 - accuracy: 0.6769 - val_loss: 0.5754 - val_accuracy: 0.6920\n",
      "Epoch 15/100\n",
      "28/28 [==============================] - 71s 3s/step - loss: 0.5947 - accuracy: 0.6700 - val_loss: 0.5765 - val_accuracy: 0.7020\n",
      "Epoch 16/100\n",
      "28/28 [==============================] - 71s 3s/step - loss: 0.5890 - accuracy: 0.6791 - val_loss: 0.5718 - val_accuracy: 0.7087\n",
      "Epoch 17/100\n",
      "28/28 [==============================] - 71s 3s/step - loss: 0.5874 - accuracy: 0.6847 - val_loss: 0.5720 - val_accuracy: 0.7040\n",
      "Epoch 18/100\n",
      "28/28 [==============================] - 72s 3s/step - loss: 0.5866 - accuracy: 0.6827 - val_loss: 0.5709 - val_accuracy: 0.6997\n",
      "Epoch 19/100\n",
      "28/28 [==============================] - 71s 3s/step - loss: 0.5860 - accuracy: 0.6764 - val_loss: 0.5715 - val_accuracy: 0.7037\n",
      "Epoch 20/100\n",
      "28/28 [==============================] - 70s 3s/step - loss: 0.5828 - accuracy: 0.6836 - val_loss: 0.5686 - val_accuracy: 0.7143\n",
      "Epoch 21/100\n",
      "28/28 [==============================] - 71s 3s/step - loss: 0.5811 - accuracy: 0.6850 - val_loss: 0.5693 - val_accuracy: 0.7033\n",
      "Epoch 22/100\n",
      "28/28 [==============================] - 73s 3s/step - loss: 0.5820 - accuracy: 0.6863 - val_loss: 0.5685 - val_accuracy: 0.7023\n",
      "Epoch 23/100\n",
      "28/28 [==============================] - 70s 3s/step - loss: 0.5813 - accuracy: 0.6794 - val_loss: 0.5660 - val_accuracy: 0.7130\n",
      "Epoch 24/100\n",
      "28/28 [==============================] - 70s 3s/step - loss: 0.5801 - accuracy: 0.6821 - val_loss: 0.5685 - val_accuracy: 0.7057\n",
      "Epoch 25/100\n",
      "28/28 [==============================] - 71s 3s/step - loss: 0.5787 - accuracy: 0.6817 - val_loss: 0.5656 - val_accuracy: 0.7137\n",
      "Epoch 26/100\n",
      "28/28 [==============================] - 81s 3s/step - loss: 0.5764 - accuracy: 0.6907 - val_loss: 0.5662 - val_accuracy: 0.7120\n",
      "Epoch 27/100\n",
      "28/28 [==============================] - 70s 3s/step - loss: 0.5776 - accuracy: 0.6889 - val_loss: 0.5640 - val_accuracy: 0.7140\n",
      "Epoch 28/100\n",
      "28/28 [==============================] - 70s 2s/step - loss: 0.5788 - accuracy: 0.6891 - val_loss: 0.5651 - val_accuracy: 0.7073\n",
      "Epoch 29/100\n",
      "28/28 [==============================] - 70s 2s/step - loss: 0.5806 - accuracy: 0.6876 - val_loss: 0.5633 - val_accuracy: 0.7113\n",
      "Epoch 30/100\n",
      "28/28 [==============================] - 71s 3s/step - loss: 0.5738 - accuracy: 0.6923 - val_loss: 0.5629 - val_accuracy: 0.7147\n",
      "Epoch 31/100\n",
      "28/28 [==============================] - 72s 3s/step - loss: 0.5749 - accuracy: 0.6949 - val_loss: 0.5628 - val_accuracy: 0.7117\n",
      "Epoch 32/100\n",
      "28/28 [==============================] - 72s 3s/step - loss: 0.5765 - accuracy: 0.6880 - val_loss: 0.5695 - val_accuracy: 0.7007\n",
      "Epoch 33/100\n",
      "28/28 [==============================] - 71s 3s/step - loss: 0.5735 - accuracy: 0.6923 - val_loss: 0.5672 - val_accuracy: 0.7047\n",
      "Epoch 34/100\n",
      "28/28 [==============================] - 70s 3s/step - loss: 0.5742 - accuracy: 0.6936 - val_loss: 0.5627 - val_accuracy: 0.7120\n",
      "Epoch 35/100\n",
      "28/28 [==============================] - 60s 2s/step - loss: 0.5724 - accuracy: 0.6956 - val_loss: 0.5617 - val_accuracy: 0.7160\n",
      "Epoch 36/100\n",
      "28/28 [==============================] - 53s 2s/step - loss: 0.5729 - accuracy: 0.6890 - val_loss: 0.5622 - val_accuracy: 0.7153\n",
      "Epoch 37/100\n",
      "28/28 [==============================] - 53s 2s/step - loss: 0.5723 - accuracy: 0.6919 - val_loss: 0.5619 - val_accuracy: 0.7173\n",
      "Epoch 38/100\n",
      "28/28 [==============================] - 53s 2s/step - loss: 0.5723 - accuracy: 0.6966 - val_loss: 0.5605 - val_accuracy: 0.7167\n",
      "Epoch 39/100\n",
      "28/28 [==============================] - 53s 2s/step - loss: 0.5714 - accuracy: 0.6937 - val_loss: 0.5641 - val_accuracy: 0.7117\n",
      "Epoch 40/100\n",
      "28/28 [==============================] - 53s 2s/step - loss: 0.5704 - accuracy: 0.6974 - val_loss: 0.5602 - val_accuracy: 0.7167\n",
      "Epoch 41/100\n",
      "28/28 [==============================] - 53s 2s/step - loss: 0.5676 - accuracy: 0.6957 - val_loss: 0.5602 - val_accuracy: 0.7170\n",
      "Epoch 42/100\n",
      "28/28 [==============================] - 53s 2s/step - loss: 0.5689 - accuracy: 0.7011 - val_loss: 0.5601 - val_accuracy: 0.7180\n",
      "Epoch 43/100\n",
      "28/28 [==============================] - 53s 2s/step - loss: 0.5650 - accuracy: 0.6990 - val_loss: 0.5615 - val_accuracy: 0.7100\n",
      "Epoch 44/100\n",
      "28/28 [==============================] - 55s 2s/step - loss: 0.5729 - accuracy: 0.6990 - val_loss: 0.5599 - val_accuracy: 0.7160\n",
      "Epoch 45/100\n",
      "28/28 [==============================] - 53s 2s/step - loss: 0.5642 - accuracy: 0.6967 - val_loss: 0.5611 - val_accuracy: 0.7117\n",
      "Epoch 46/100\n",
      "28/28 [==============================] - 53s 2s/step - loss: 0.5628 - accuracy: 0.6993 - val_loss: 0.5603 - val_accuracy: 0.7163\n",
      "Epoch 47/100\n",
      "28/28 [==============================] - 53s 2s/step - loss: 0.5693 - accuracy: 0.6947 - val_loss: 0.5655 - val_accuracy: 0.7060\n",
      "Epoch 48/100\n",
      "28/28 [==============================] - 53s 2s/step - loss: 0.5666 - accuracy: 0.6924 - val_loss: 0.5599 - val_accuracy: 0.7153\n",
      "Epoch 49/100\n",
      "28/28 [==============================] - 53s 2s/step - loss: 0.5640 - accuracy: 0.6993 - val_loss: 0.5590 - val_accuracy: 0.7230\n",
      "Epoch 50/100\n",
      "28/28 [==============================] - 53s 2s/step - loss: 0.5668 - accuracy: 0.6984 - val_loss: 0.5590 - val_accuracy: 0.7207\n",
      "Epoch 51/100\n",
      "28/28 [==============================] - 54s 2s/step - loss: 0.5615 - accuracy: 0.7047 - val_loss: 0.5615 - val_accuracy: 0.7050\n",
      "Epoch 52/100\n",
      "28/28 [==============================] - 53s 2s/step - loss: 0.5621 - accuracy: 0.7030 - val_loss: 0.5583 - val_accuracy: 0.7190\n",
      "Epoch 53/100\n",
      "28/28 [==============================] - 56s 2s/step - loss: 0.5627 - accuracy: 0.6981 - val_loss: 0.5589 - val_accuracy: 0.7160\n",
      "Epoch 54/100\n",
      "28/28 [==============================] - 52s 2s/step - loss: 0.5625 - accuracy: 0.7054 - val_loss: 0.5646 - val_accuracy: 0.7037\n",
      "Epoch 55/100\n",
      "28/28 [==============================] - 52s 2s/step - loss: 0.5632 - accuracy: 0.6991 - val_loss: 0.5602 - val_accuracy: 0.7177\n",
      "Epoch 56/100\n",
      "28/28 [==============================] - 52s 2s/step - loss: 0.5623 - accuracy: 0.6987 - val_loss: 0.5605 - val_accuracy: 0.7093\n",
      "Epoch 57/100\n",
      "28/28 [==============================] - 53s 2s/step - loss: 0.5653 - accuracy: 0.6990 - val_loss: 0.5601 - val_accuracy: 0.7183\n",
      "Epoch 58/100\n",
      "28/28 [==============================] - 53s 2s/step - loss: 0.5589 - accuracy: 0.7030 - val_loss: 0.5611 - val_accuracy: 0.7087\n"
     ]
    },
    {
     "name": "stdout",
     "output_type": "stream",
     "text": [
      "Epoch 59/100\n",
      "28/28 [==============================] - 53s 2s/step - loss: 0.5591 - accuracy: 0.7039 - val_loss: 0.5586 - val_accuracy: 0.7223\n",
      "Epoch 60/100\n",
      "28/28 [==============================] - 53s 2s/step - loss: 0.5604 - accuracy: 0.7013 - val_loss: 0.5593 - val_accuracy: 0.7140\n",
      "Epoch 61/100\n",
      "28/28 [==============================] - 52s 2s/step - loss: 0.5629 - accuracy: 0.6983 - val_loss: 0.5599 - val_accuracy: 0.7173\n",
      "Epoch 62/100\n",
      "28/28 [==============================] - 53s 2s/step - loss: 0.5594 - accuracy: 0.7000 - val_loss: 0.5581 - val_accuracy: 0.7193\n",
      "Epoch 63/100\n",
      "28/28 [==============================] - 53s 2s/step - loss: 0.5545 - accuracy: 0.7060 - val_loss: 0.5592 - val_accuracy: 0.7150\n",
      "Epoch 64/100\n",
      "28/28 [==============================] - 54s 2s/step - loss: 0.5614 - accuracy: 0.6950 - val_loss: 0.5577 - val_accuracy: 0.7197\n",
      "Epoch 65/100\n",
      "28/28 [==============================] - 54s 2s/step - loss: 0.5588 - accuracy: 0.7047 - val_loss: 0.5587 - val_accuracy: 0.7153\n",
      "Epoch 66/100\n",
      "28/28 [==============================] - 54s 2s/step - loss: 0.5562 - accuracy: 0.7011 - val_loss: 0.5576 - val_accuracy: 0.7193\n",
      "Epoch 67/100\n",
      "28/28 [==============================] - 55s 2s/step - loss: 0.5543 - accuracy: 0.7067 - val_loss: 0.5573 - val_accuracy: 0.7177\n",
      "Epoch 68/100\n",
      "28/28 [==============================] - 53s 2s/step - loss: 0.5511 - accuracy: 0.7069 - val_loss: 0.5576 - val_accuracy: 0.7190\n",
      "Epoch 69/100\n",
      "28/28 [==============================] - 53s 2s/step - loss: 0.5581 - accuracy: 0.7071 - val_loss: 0.5576 - val_accuracy: 0.7157\n"
     ]
    }
   ],
   "source": [
    "#start the training\n",
    "history = model.fit(x_train_DownSize, \n",
    "                    y_train_DownSize, \n",
    "                    batch_size = batch_size , \n",
    "                    validation_data = (x_test_DownSize,y_test_DownSize) , \n",
    "                    epochs = epochs , \n",
    "                    callbacks = callback,\n",
    "                    verbose = 1)"
   ]
  },
  {
   "cell_type": "code",
   "execution_count": 51,
   "metadata": {},
   "outputs": [
    {
     "data": {
      "image/png": "[encoded data removed]",
      "text/plain": [
       "<Figure size 432x288 with 1 Axes>"
      ]
     },
     "metadata": {},
     "output_type": "display_data"
    },
    {
     "data": {
      "image/png": "[encoded data removed]",
      "text/plain": [
       "<Figure size 432x288 with 1 Axes>"
      ]
     },
     "metadata": {},
     "output_type": "display_data"
    }
   ],
   "source": [
    "#getting train and validation accuracies\n",
    "train_acc = history.history['accuracy']\n",
    "val_acc = history.history['val_accuracy']\n",
    "\n",
    "#getting train and validation losses\n",
    "train_loss = history.history['loss']\n",
    "val_loss = history.history['val_loss']\n",
    "epochs = range(1, len(train_loss) + 1)\n",
    "\n",
    "#plotting the training and validation accurracies\n",
    "plt.plot(epochs, train_acc, 'b', label='Training acc')\n",
    "plt.plot(epochs, val_acc, 'r', label='Validation acc')\n",
    "plt.title('Training and validation accuracy for LSTM')\n",
    "plt.legend()\n",
    "plt.figure()\n",
    "\n",
    "#plotting the train and validaiton losses\n",
    "plt.plot(epochs, train_loss, 'b', label='Training loss')\n",
    "plt.plot(epochs, val_loss, 'r', label='Validation loss')\n",
    "plt.title('Training and validation loss for LSTM')\n",
    "plt.legend()\n",
    "\n",
    "plt.show()"
   ]
  },
  {
   "cell_type": "code",
   "execution_count": 52,
   "metadata": {},
   "outputs": [],
   "source": [
    "model.save(\"lstm.h5\")"
   ]
  },
  {
   "cell_type": "markdown",
   "metadata": {},
   "source": [
    "# Test Model"
   ]
  },
  {
   "cell_type": "code",
   "execution_count": 53,
   "metadata": {},
   "outputs": [],
   "source": [
    "model = keras.models.load_model('lstm.h5')\n",
    "pred = model.predict(x_test_DownSize)\n",
    "\n",
    "predictions = []\n",
    "\n",
    "for i in pred:\n",
    "    if i >= 0.5:\n",
    "        predictions.append(1)\n",
    "    else:\n",
    "        predictions.append(0) "
   ]
  },
  {
   "cell_type": "code",
   "execution_count": 56,
   "metadata": {},
   "outputs": [
    {
     "data": {
      "text/plain": [
       "array([[0.44070444],\n",
       "       [0.9047582 ],\n",
       "       [0.81598735],\n",
       "       ...,\n",
       "       [0.7753824 ],\n",
       "       [0.6674577 ],\n",
       "       [0.47028443]], dtype=float32)"
      ]
     },
     "execution_count": 56,
     "metadata": {},
     "output_type": "execute_result"
    }
   ],
   "source": [
    "pred"
   ]
  },
  {
   "cell_type": "code",
   "execution_count": 57,
   "metadata": {},
   "outputs": [],
   "source": [
    "from sklearn.metrics import accuracy_score\n",
    "from sklearn.metrics import precision_score\n",
    "from sklearn.metrics import recall_score\n",
    "from sklearn.metrics import f1_score"
   ]
  },
  {
   "cell_type": "code",
   "execution_count": 58,
   "metadata": {},
   "outputs": [
    {
     "name": "stdout",
     "output_type": "stream",
     "text": [
      "Accuracy on testing set: 0.723\n",
      "Precision on testing set: 0.8739754098360656\n",
      "Recall on testing set: 0.7446529899607158\n",
      "F1 on testing set: 0.8041480084845628\n"
     ]
    }
   ],
   "source": [
    "lstm_accuracy_score = accuracy_score(predictions, y_test_DownSize)\n",
    "lstm_precision_score = precision_score(predictions, y_test_DownSize)\n",
    "lstm_recall_score = recall_score(predictions, y_test_DownSize)\n",
    "lstm_f1_score = f1_score(predictions, y_test_DownSize)\n",
    "\n",
    "print('Accuracy on testing set:', lstm_accuracy_score)\n",
    "print('Precision on testing set:', lstm_precision_score)\n",
    "print('Recall on testing set:', lstm_recall_score)\n",
    "print('F1 on testing set:', lstm_f1_score)"
   ]
  },
  {
   "cell_type": "code",
   "execution_count": 60,
   "metadata": {},
   "outputs": [],
   "source": [
    "from sklearn.metrics import confusion_matrix"
   ]
  },
  {
   "cell_type": "code",
   "execution_count": 61,
   "metadata": {},
   "outputs": [
    {
     "data": {
      "text/plain": [
       "array([[ 463,  246],\n",
       "       [ 585, 1706]])"
      ]
     },
     "execution_count": 61,
     "metadata": {},
     "output_type": "execute_result"
    }
   ],
   "source": [
    "confusion_matrix(predictions, y_test_DownSize)"
   ]
  },
  {
   "cell_type": "code",
   "execution_count": 62,
   "metadata": {},
   "outputs": [
    {
     "data": {
      "text/plain": [
       "[Text(0, 0.5, '0'), Text(0, 1.5, '1')]"
      ]
     },
     "execution_count": 62,
     "metadata": {},
     "output_type": "execute_result"
    },
    {
     "data": {
      "image/png": "[encoded data removed]",
      "text/plain": [
       "<Figure size 1152x720 with 2 Axes>"
      ]
     },
     "metadata": {},
     "output_type": "display_data"
    }
   ],
   "source": [
    "matrix = confusion_matrix(predictions, y_test_DownSize, normalize='all')\n",
    "plt.figure(figsize=(16, 10))\n",
    "ax = plt.subplot()\n",
    "sns.heatmap(matrix, annot=True, ax = ax)\n",
    "\n",
    "# labels, title and ticks\n",
    "ax.set_xlabel('Predicted Labels', size=20)\n",
    "ax.set_ylabel('True Labels', size=20)\n",
    "ax.set_title('Confusion Matrix', size=20) \n",
    "ax.xaxis.set_ticklabels([0,1], size=15)\n",
    "ax.yaxis.set_ticklabels([0,1], size=15)"
   ]
  },
  {
   "cell_type": "code",
   "execution_count": null,
   "metadata": {},
   "outputs": [],
   "source": []
  }
 ],
 "metadata": {
  "kernelspec": {
   "display_name": "Python 3",
   "language": "python",
   "name": "python3"
  },
  "language_info": {
   "codemirror_mode": {
    "name": "ipython",
    "version": 3
   },
   "file_extension": ".py",
   "mimetype": "text/x-python",
   "name": "python",
   "nbconvert_exporter": "python",
   "pygments_lexer": "ipython3",
   "version": "3.7.6"
  }
 },
 "nbformat": 4,
 "nbformat_minor": 4
}
