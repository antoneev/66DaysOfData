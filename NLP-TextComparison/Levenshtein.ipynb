{
 "cells": [
  {
   "cell_type": "markdown",
   "metadata": {},
   "source": [
    "# Sentences as written by author "
   ]
  },
  {
   "cell_type": "code",
   "execution_count": 1,
   "metadata": {},
   "outputs": [
    {
     "name": "stdout",
     "output_type": "stream",
     "text": [
      "Similarity Score:  0.5172413793103449\n"
     ]
    }
   ],
   "source": [
    "import Levenshtein\n",
    "\n",
    "string1 = \"The cow jumped over the moon.\"\n",
    "string2 = \"The frog kissed the princess.\"\n",
    "\n",
    "print('Similarity Score: ',Levenshtein.ratio(string1, string2))"
   ]
  },
  {
   "cell_type": "markdown",
   "metadata": {},
   "source": [
    "# Comparing the case sensitivity  "
   ]
  },
  {
   "cell_type": "code",
   "execution_count": 2,
   "metadata": {},
   "outputs": [
    {
     "name": "stdout",
     "output_type": "stream",
     "text": [
      "Similarity Score:  0.5862068965517241\n",
      "Similarity Score - Lowercase:  1.0\n"
     ]
    }
   ],
   "source": [
    "string1 = \"THE cow JUMPED OVER the moon.\"\n",
    "string2 = \"The cow jumped over the moon.\"\n",
    "\n",
    "print('Similarity Score: ',Levenshtein.ratio(string1, string2))\n",
    "\n",
    "print('Similarity Score - Lowercase: ',Levenshtein.ratio(string1.lower(), string2.lower()))"
   ]
  },
  {
   "cell_type": "code",
   "execution_count": null,
   "metadata": {},
   "outputs": [],
   "source": []
  }
 ],
 "metadata": {
  "kernelspec": {
   "display_name": "Python 3",
   "language": "python",
   "name": "python3"
  },
  "language_info": {
   "codemirror_mode": {
    "name": "ipython",
    "version": 3
   },
   "file_extension": ".py",
   "mimetype": "text/x-python",
   "name": "python",
   "nbconvert_exporter": "python",
   "pygments_lexer": "ipython3",
   "version": "3.7.6"
  }
 },
 "nbformat": 4,
 "nbformat_minor": 4
}
