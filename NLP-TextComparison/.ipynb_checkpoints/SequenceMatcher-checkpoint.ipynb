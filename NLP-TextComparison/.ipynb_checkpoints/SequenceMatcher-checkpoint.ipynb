{
 "cells": [
  {
   "cell_type": "code",
   "execution_count": 1,
   "metadata": {},
   "outputs": [
    {
     "name": "stdout",
     "output_type": "stream",
     "text": [
      "[Match(a=0, b=0, size=4), Match(a=5, b=6, size=1), Match(a=7, b=8, size=1), Match(a=12, b=13, size=2), Match(a=19, b=15, size=5), Match(a=27, b=23, size=1), Match(a=28, b=28, size=1), Match(a=29, b=29, size=0)]\n",
      "Similarity Score:  0.5172413793103449\n"
     ]
    }
   ],
   "source": [
    "import difflib\n",
    "\n",
    "string1 = \"The cow jumped over the moon.\"\n",
    "string2 = \"The frog kissed the princess.\"\n",
    "\n",
    "temp = difflib.SequenceMatcher(None, string1, string2)\n",
    "\n",
    "print(temp.get_matching_blocks())\n",
    "print('Similarity Score: ',temp.ratio())"
   ]
  },
  {
   "cell_type": "code",
   "execution_count": null,
   "metadata": {},
   "outputs": [],
   "source": []
  }
 ],
 "metadata": {
  "kernelspec": {
   "display_name": "Python 3",
   "language": "python",
   "name": "python3"
  },
  "language_info": {
   "codemirror_mode": {
    "name": "ipython",
    "version": 3
   },
   "file_extension": ".py",
   "mimetype": "text/x-python",
   "name": "python",
   "nbconvert_exporter": "python",
   "pygments_lexer": "ipython3",
   "version": "3.7.6"
  }
 },
 "nbformat": 4,
 "nbformat_minor": 4
}
